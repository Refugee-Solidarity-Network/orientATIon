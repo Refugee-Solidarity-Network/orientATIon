{
 "cells": [
  {
   "cell_type": "markdown",
   "metadata": {},
   "source": [
    "# Implementing Basic RAG QA with Langchain\n",
    "This notebook demonstrates how to implement a basic Retrieval-Augmented Generation (RAG) chain using our FAQ data. The overall approach is as follows:\n",
    "1. Load FAQ Data & Structure Metadata\n",
    "2. Create Embeddings for the FAQ Data using Amazon's Titan Embeddings model, and save these embeddings locally using Chroma.\n",
    "3. Create a Question Answering (QA) chain which retrieves context based on the embeddings saved in Chroma, serving these as context to the Amazon Titan Express LLM to answer the provided user prompt.\n",
    "4. Format the response so that source materials can be cited.\n",
    "\n",
    "This implementation mostly follows these Langchain tutorials:\n",
    "- https://python.langchain.com/docs/modules/data_connection/document_loaders/json#using-jsonloader"
   ]
  },
  {
   "cell_type": "code",
   "execution_count": 1,
   "metadata": {},
   "outputs": [],
   "source": [
    "# Define metadata extraction function so we can filter on sections and return deep links as sources\n",
    "def metadata_func(record: dict, metadata: dict) -> dict:\n",
    "    metadata[\"section\"] = record.get(\"section\")\n",
    "    metadata[\"source\"] = record.get(\"deep_link\")\n",
    "    \n",
    "    return metadata"
   ]
  },
  {
   "cell_type": "code",
   "execution_count": 2,
   "metadata": {},
   "outputs": [],
   "source": [
    "# Import JSON FAQ File using JSONLoader\n",
    "from langchain_community.document_loaders import JSONLoader\n",
    "from pprint import pprint\n",
    "\n",
    "file_path='../data/processed/faq_data/UR_NSYR.json'\n",
    "\n",
    "loader = JSONLoader(\n",
    "    file_path=file_path,\n",
    "    jq_schema=\".[]\",\n",
    "    content_key=\"answer\",\n",
    "    metadata_func=metadata_func\n",
    ")\n",
    "\n",
    "data = loader.load()"
   ]
  },
  {
   "cell_type": "code",
   "execution_count": 3,
   "metadata": {},
   "outputs": [],
   "source": [
    "from langchain_community.embeddings import BedrockEmbeddings\n",
    "from langchain_community.vectorstores import Chroma\n",
    "\n",
    "embeddings = BedrockEmbeddings(\n",
    "    model_id=\"amazon.titan-embed-text-v1\", region_name=\"us-east-1\"\n",
    ")\n",
    "persistDirectory = './data/processed/faq_data/vectordata/UR_NSYR'\n",
    "vectorstore = Chroma.from_documents(\n",
    "    documents=data, embedding=embeddings, persist_directory=persistDirectory)\n",
    "vectorstore.persist()"
   ]
  },
  {
   "cell_type": "markdown",
   "metadata": {},
   "source": [
    "Run the cells below to re-use already-generated vector embeddings."
   ]
  },
  {
   "cell_type": "code",
   "execution_count": 4,
   "metadata": {},
   "outputs": [],
   "source": [
    "from langchain_community.embeddings import BedrockEmbeddings\n",
    "from langchain_community.vectorstores import Chroma\n",
    "\n",
    "embeddings = BedrockEmbeddings(\n",
    "    model_id=\"amazon.titan-embed-text-v1\", region_name=\"us-east-1\"\n",
    ")\n",
    "\n",
    "persistDirectory = './data/processed/faq_data/vectordata/UR_NSYR'\n",
    "# Retrieve and generate answers using relevant FAQs\n",
    "vectordb = Chroma(persist_directory=persistDirectory,\n",
    "                  embedding_function=embeddings)\n",
    "\n",
    "retriever = vectordb.as_retriever()"
   ]
  },
  {
   "cell_type": "code",
   "execution_count": 5,
   "metadata": {},
   "outputs": [],
   "source": [
    "from utils import CreateInferenceModifier # Import the function from utils.py\n",
    "from langchain import hub\n",
    "from langchain_community.llms import Bedrock\n",
    "from langchain_core.runnables import RunnablePassthrough\n",
    "from langchain_core.output_parsers import StrOutputParser\n",
    "from langchain_core.prompts import PromptTemplate\n",
    "\n",
    "prompt_template = \"\"\"Drawing from your knowledge base, answer the question below.\n",
    "If you don't know the answer from the provided context, tell me that your training materials don't include this information.\n",
    "Keep the answer as concise and relevant to the question as possible.\n",
    "\n",
    "Knowledge Base: {context}\n",
    "\n",
    "Question: {question}\n",
    "\n",
    "Helpful Answer:\"\"\"\n",
    "custom_rag_prompt = PromptTemplate.from_template(prompt_template)\n",
    "\n",
    "\n",
    "# Define the universal set of modifier parameters\n",
    "modifiers = {\"max_tokens\": 4000,\n",
    "             \"temperature\": 0.2,\n",
    "             \"top_k\": 250,\n",
    "             \"top_p\": 1,\n",
    "             \"stop_sequences\": [\"\\n\\nHuman\"],\n",
    "             }\n",
    "\n",
    "\n",
    "llm = Bedrock(model_id=\"anthropic.claude-v2:1\",\n",
    "              model_kwargs=CreateInferenceModifier(\"claude\", params=modifiers))\n",
    "\n",
    "def format_docs(docs):\n",
    "    return \"\\n\\n\".join(doc.page_content for doc in docs)\n",
    "\n",
    "from langchain_core.runnables import RunnableParallel\n",
    "\n",
    "rag_chain_from_docs = (\n",
    "    RunnablePassthrough.assign(context=(lambda x: format_docs(x[\"context\"])))\n",
    "    | custom_rag_prompt\n",
    "    | llm\n",
    "    | StrOutputParser()\n",
    ")\n",
    "\n",
    "rag_chain_with_source = RunnableParallel(\n",
    "    {\"context\": retriever, \"question\": RunnablePassthrough()}\n",
    ").assign(answer=rag_chain_from_docs)"
   ]
  },
  {
   "cell_type": "code",
   "execution_count": 6,
   "metadata": {},
   "outputs": [
    {
     "data": {
      "text/markdown": [
       "## Answer: \n",
       "\n",
       "  ترکی میں پناہ کی درخواست دینے کے لیے آپ کو مندرجہ ذیل اقدامات کرنے کی ضرورت ہے:\n",
       "\n",
       "1. آپ کو اپنی پناہ کی درخواست جلد از جلد ترکی پہنچنے کے بعد جمع کرانی چاہیے۔ کوئی قانونی وقت کی حد تو مقرر نہیں ہے لیکن جلدی سے درخواست دینا بہتر ہے۔\n",
       "\n",
       "2. آپ کو اپنی درخواست صوبائی ڈائریکٹوریٹ آف مائیگریشن مینجمنٹ کے سامنے پیش کرنی ہوگی جہاں آپ رجسٹرڈ ہیں۔\n",
       "\n",
       "3. آپ کو اپنی درخواست میں یہ بتانا ہوگا کہ آپ کیوں اپنے ملک سے بھاگے ہیں اور آپ کو وہاں کیا خطرات لاحق ہیں۔ آپ کو ثبوت فراہم کرنے ہوں گے۔\n",
       "\n",
       "4. آپ کا ذاتی انٹرویو لیا جائے گا جس میں آپ سے تفصیل سے سوالات پوچھے جائیں گے۔ \n",
       "\n",
       "5. پھر آپ کی درخواست پر غور کیا جائے گا اور آپ کو فیصلے کی اطلاع دی جائے گی۔\n",
       "\n",
       "6. آپ کسی بھی منفی فیصلے کے خلاف اپیل کر سکتے ہیں۔\n",
       "\n",
       "امید ہے میں نے آپ کے سوال کا جواب دے دیا ہے۔ اگر آپ کو مزید رہنمائی کی ضرورت ہو تو مجھ سے پوچھیں۔ \n",
       "\n",
       " ## Sources: \n",
       "\n",
       " https://multecihaklari.info/ur/services/registration-and-status-6/?section=questions&question=5; https://multecihaklari.info/ur/services/unaccompanied-minors/?section=questions&question=21; https://multecihaklari.info/ur/services/registration-and-status-6/?section=questions&question=40; https://multecihaklari.info/ur/services/registration-and-status-6/?section=questions&question=32"
      ],
      "text/plain": [
       "<IPython.core.display.Markdown object>"
      ]
     },
     "execution_count": 6,
     "metadata": {},
     "output_type": "execute_result"
    }
   ],
   "source": [
    "# Define a function to extract unique URLs used in the retrieved source materials.\n",
    "from IPython.display import Markdown, display\n",
    "def extract_unique_urls(response):\n",
    "    unique_urls = set()  # Use a set to store unique URLs\n",
    "    \n",
    "    # Iterate through each document in the 'context'\n",
    "    for document in response['context']:\n",
    "        source_url = document.metadata['source']  # Extract the 'source' URL\n",
    "        unique_urls.add(source_url)  # Add the URL to the set\n",
    "    \n",
    "    # Convert the set of unique URLs to a string\n",
    "    urls_string = '; '.join(unique_urls)\n",
    "    \n",
    "    return urls_string\n",
    "\n",
    "\n",
    "# Invoke the chain and print the response and sources.\n",
    "response = rag_chain_with_source.invoke(\n",
    "    \"ترکی میں پناہ کی درخواست دینے کے لیے مجھے کیا اقدامات کرنے کی ضرورت ہے؟\")\n",
    "answer = response[\"answer\"]\n",
    "prettyResponse = f\"## Answer: \\n\\n {answer} \\n\\n ## Sources: \\n\\n {extract_unique_urls(response)}\"\n",
    "Markdown(prettyResponse)"
   ]
  },
  {
   "cell_type": "code",
   "execution_count": 7,
   "metadata": {},
   "outputs": [],
   "source": [
    "def query_asylum_system(question):\n",
    "    from IPython.display import Markdown, display\n",
    "    # Invoke the LLM chain with the provided question\n",
    "    response = rag_chain_with_source.invoke(question)\n",
    "\n",
    "    # Extract the answer from the response\n",
    "    answer = response[\"answer\"]\n",
    "\n",
    "    # Format the response using Markdown\n",
    "    pretty_response = f\"## Answer: \\n\\n{answer}\\n\\n## Sources:\\n\\n{extract_unique_urls(response)}\"\n",
    "    return pretty_response"
   ]
  },
  {
   "cell_type": "code",
   "execution_count": 8,
   "metadata": {},
   "outputs": [
    {
     "data": {
      "text/markdown": [
       "## Answer: \n",
       "\n",
       " جی ہاں، ترکی میں پناہ گزینوں کے کچھ اہم حقوق ہیں جن میں شامل ہیں:\n",
       "\n",
       "- ترکی میں سیاسی پناہ کی درخواست دینے کا حق۔ اگر آپ کو اپنے ملک واپس جانے کا خوف ہے تو آپ عارضی تحفظ یا بین الاقوامی تحفظ کے لیے درخواست دے سکتے ہیں۔\n",
       "\n",
       "- جب تک آپ کی درخواست کا جائزہ لیا جا رہا ہو، تب تک زبردستی واپس نہ بھیجے جانے کا حق۔ \n",
       "\n",
       "- عارضی تحفظ یا بین الاقوامی تحفظ کی حیثیت سے تعلیم، صحت کی دیکھ بھال اور سماجی امداد جیسی بنیادی خدمات تک رسائی حاصل کرنے کا حق۔\n",
       "\n",
       "- کام کرنے اور کمائی کرنے کا حق، مشروط اس بات پر کہ آپ ورک پرمٹ حاصل کریں۔\n",
       "\n",
       "یہ کچھ اہم حقوق ہیں جو ترکی میں پناہ گزینوں کو دیے جاتے ہیں۔ اگر آپ کے پاس مزید سوالات ہیں تو میں خوشی سے جواب دوں گا۔\n",
       "\n",
       "## Sources:\n",
       "\n",
       "https://multecihaklari.info/ur/services/unaccompanied-minors/?section=questions&question=12; https://multecihaklari.info/ur/services/registration-and-status-6/?section=questions&question=31; https://multecihaklari.info/ur/services/unaccompanied-minors/?section=questions&question=10; https://multecihaklari.info/ur/services/unaccompanied-minors/?section=questions&question=18"
      ],
      "text/plain": [
       "<IPython.core.display.Markdown object>"
      ]
     },
     "execution_count": 8,
     "metadata": {},
     "output_type": "execute_result"
    }
   ],
   "source": [
    "Markdown(query_asylum_system(\n",
    "    \"کیا آپ مجھے ترکی میں ایک پناہ گزین کے طور پر میرے حقوق کے بارے میں بتا سکتے ہیں؟\"))"
   ]
  }
 ],
 "metadata": {
  "kernelspec": {
   "display_name": "Python 3",
   "language": "python",
   "name": "python3"
  },
  "language_info": {
   "codemirror_mode": {
    "name": "ipython",
    "version": 3
   },
   "file_extension": ".py",
   "mimetype": "text/x-python",
   "name": "python",
   "nbconvert_exporter": "python",
   "pygments_lexer": "ipython3",
   "version": "3.11.6"
  }
 },
 "nbformat": 4,
 "nbformat_minor": 2
}
