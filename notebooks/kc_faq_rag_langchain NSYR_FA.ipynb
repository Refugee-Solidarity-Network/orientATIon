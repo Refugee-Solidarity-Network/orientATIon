{
 "cells": [
  {
   "cell_type": "markdown",
   "metadata": {},
   "source": [
    "# Implementing Basic RAG QA with Langchain\n",
    "This notebook demonstrates how to implement a basic Retrieval-Augmented Generation (RAG) chain using our FAQ data. The overall approach is as follows:\n",
    "1. Load FAQ Data & Structure Metadata\n",
    "2. Create Embeddings for the FAQ Data using Amazon's Titan Embeddings model, and save these embeddings locally using Chroma.\n",
    "3. Create a Question Answering (QA) chain which retrieves context based on the embeddings saved in Chroma, serving these as context to the Amazon Titan Express LLM to answer the provided user prompt.\n",
    "4. Format the response so that source materials can be cited.\n",
    "\n",
    "This implementation mostly follows these Langchain tutorials:\n",
    "- https://python.langchain.com/docs/modules/data_connection/document_loaders/json#using-jsonloader"
   ]
  },
  {
   "cell_type": "code",
   "execution_count": 1,
   "metadata": {},
   "outputs": [],
   "source": [
    "# Define metadata extraction function so we can filter on sections and return deep links as sources\n",
    "def metadata_func(record: dict, metadata: dict) -> dict:\n",
    "    metadata[\"section\"] = record.get(\"section\")\n",
    "    metadata[\"source\"] = record.get(\"deep_link\")\n",
    "    \n",
    "    return metadata"
   ]
  },
  {
   "cell_type": "code",
   "execution_count": 2,
   "metadata": {},
   "outputs": [],
   "source": [
    "# Import JSON FAQ File using JSONLoader\n",
    "from langchain_community.document_loaders import JSONLoader\n",
    "from pprint import pprint\n",
    "\n",
    "file_path='../data/processed/faq_data/FA_NSYR.json'\n",
    "\n",
    "loader = JSONLoader(\n",
    "    file_path=file_path,\n",
    "    jq_schema=\".[]\",\n",
    "    content_key=\"answer\",\n",
    "    metadata_func=metadata_func\n",
    ")\n",
    "\n",
    "data = loader.load()"
   ]
  },
  {
   "cell_type": "code",
   "execution_count": 3,
   "metadata": {},
   "outputs": [],
   "source": [
    "from langchain_community.embeddings import BedrockEmbeddings\n",
    "from langchain_community.vectorstores import Chroma\n",
    "\n",
    "embeddings = BedrockEmbeddings(\n",
    "    model_id=\"amazon.titan-embed-text-v1\", region_name=\"us-east-1\"\n",
    ")\n",
    "persistDirectory = './data/processed/faq_data/vectordata/FA_NSYR'\n",
    "vectorstore = Chroma.from_documents(\n",
    "    documents=data, embedding=embeddings, persist_directory=persistDirectory)\n",
    "vectorstore.persist()"
   ]
  },
  {
   "cell_type": "markdown",
   "metadata": {},
   "source": [
    "Run the cells below to re-use already-generated vector embeddings."
   ]
  },
  {
   "cell_type": "code",
   "execution_count": 4,
   "metadata": {},
   "outputs": [],
   "source": [
    "from langchain_community.embeddings import BedrockEmbeddings\n",
    "from langchain_community.vectorstores import Chroma\n",
    "\n",
    "embeddings = BedrockEmbeddings(\n",
    "    model_id=\"amazon.titan-embed-text-v1\", region_name=\"us-east-1\"\n",
    ")\n",
    "\n",
    "persistDirectory = './data/processed/faq_data/vectordata/FA_NSYR'\n",
    "# Retrieve and generate answers using relevant FAQs\n",
    "vectordb = Chroma(persist_directory=persistDirectory,\n",
    "                  embedding_function=embeddings)\n",
    "\n",
    "retriever = vectordb.as_retriever()"
   ]
  },
  {
   "cell_type": "code",
   "execution_count": 5,
   "metadata": {},
   "outputs": [],
   "source": [
    "from utils import CreateInferenceModifier # Import the function from utils.py\n",
    "from langchain import hub\n",
    "from langchain_community.llms import Bedrock\n",
    "from langchain_core.runnables import RunnablePassthrough\n",
    "from langchain_core.output_parsers import StrOutputParser\n",
    "from langchain_core.prompts import PromptTemplate\n",
    "\n",
    "prompt_template = \"\"\"Drawing from your knowledge base, answer the question below.\n",
    "If you don't know the answer from the provided context, tell me that your training materials don't include this information.\n",
    "Keep the answer as concise and relevant to the question as possible.\n",
    "\n",
    "Knowledge Base: {context}\n",
    "\n",
    "Question: {question}\n",
    "\n",
    "Helpful Answer:\"\"\"\n",
    "custom_rag_prompt = PromptTemplate.from_template(prompt_template)\n",
    "\n",
    "\n",
    "# Define the universal set of modifier parameters\n",
    "modifiers = {\"max_tokens\": 4000,\n",
    "             \"temperature\": 0.2,\n",
    "             \"top_k\": 250,\n",
    "             \"top_p\": 1,\n",
    "             \"stop_sequences\": [\"\\n\\nHuman\"],\n",
    "             }\n",
    "\n",
    "\n",
    "llm = Bedrock(model_id=\"anthropic.claude-v2:1\",\n",
    "              model_kwargs=CreateInferenceModifier(\"claude\", params=modifiers))\n",
    "\n",
    "def format_docs(docs):\n",
    "    return \"\\n\\n\".join(doc.page_content for doc in docs)\n",
    "\n",
    "from langchain_core.runnables import RunnableParallel\n",
    "\n",
    "rag_chain_from_docs = (\n",
    "    RunnablePassthrough.assign(context=(lambda x: format_docs(x[\"context\"])))\n",
    "    | custom_rag_prompt\n",
    "    | llm\n",
    "    | StrOutputParser()\n",
    ")\n",
    "\n",
    "rag_chain_with_source = RunnableParallel(\n",
    "    {\"context\": retriever, \"question\": RunnablePassthrough()}\n",
    ").assign(answer=rag_chain_from_docs)"
   ]
  },
  {
   "cell_type": "code",
   "execution_count": 7,
   "metadata": {},
   "outputs": [
    {
     "data": {
      "text/markdown": [
       "## Answer: \n",
       "\n",
       "  براساس اطلاعات ارائه شده در متن، برای درخواست پناهندگی در ترکیه باید مراحل زیر را طی کنید:\n",
       "\n",
       "1. درخواست پناهندگی خود را به عنوان \"درخواست حمایت بین‌المللی\" یا برای شهروندان سوریه به عنوان \"درخواست حمایت موقت\" به اداره مهاجرت استان محل اقامت خود ارائه دهید.\n",
       "\n",
       "2. دلایل ناتوانی بازگشت به کشور مبدأ را با جزئیات توضیح دهید. هرگونه مدرک شناسایی یا مدارکی که نشان دهنده ترس از آزار و اذیت باشد را ارائه کنید.\n",
       "\n",
       "3. منتظر بمانید تا درخواست شما توسط مقامات ترکیه بررسی و تصمیم‌گیری شود.\n",
       "\n",
       "4. در صورت نیاز به راهنمایی، با شماره تماس مرکز حقوق پناهندگان ترکیه تماس بگیرید.\n",
       "\n",
       "این مراحل اصلی‌ترین گام‌ها برای درخواست پناهندگی در ترکیه است. امیدوارم پاسخ مفید بوده باشد. \n",
       "\n",
       " ## Sources: \n",
       "\n",
       " https://multecihaklari.info/fa/services/%d8%ad%d9%82%d9%88%d9%82-%d9%88-%d8%b1%d9%88%d9%86%d8%af-%d8%a8%d8%b1%d8%a7%db%8c-%d8%a7%d9%81%d8%b1%d8%a7%d8%af-%d8%af%d8%b1-%d8%a8%d8%a7%d8%b2%d8%af%d8%a7%d8%b4%d8%aa-%d8%a7%d8%af%d8%a7%d8%b1%db%8c/?section=questions&question=7; https://multecihaklari.info/fa/services/%d8%ab%d8%a8%d8%aa-%d9%86%d8%a7%d9%85-%d9%88%d8%b6%d8%b9%db%8c%d8%aa-2/?section=questions&question=18; https://multecihaklari.info/fa/services/%d8%ac%d8%b2%d9%88%d9%87-%d8%a7%d8%b7%d9%84%d8%a7%d8%b9%d8%a7%d8%aa%db%8c-%d8%a8%d8%b1%d8%a7%db%8c-%d8%a7%d9%81%d8%b1%d8%a7%d8%af-%d8%ae%d8%b1%d8%af%d8%b3%d8%a7%d9%84-%d8%a8%d8%af%d9%88%d9%86-%d9%87/?section=questions&question=13; https://multecihaklari.info/fa/services/%d8%ab%d8%a8%d8%aa-%d9%86%d8%a7%d9%85-%d9%88%d8%b6%d8%b9%db%8c%d8%aa-2/?section=questions&question=48"
      ],
      "text/plain": [
       "<IPython.core.display.Markdown object>"
      ]
     },
     "execution_count": 7,
     "metadata": {},
     "output_type": "execute_result"
    }
   ],
   "source": [
    "# Define a function to extract unique URLs used in the retrieved source materials.\n",
    "from IPython.display import Markdown, display\n",
    "def extract_unique_urls(response):\n",
    "    unique_urls = set()  # Use a set to store unique URLs\n",
    "    \n",
    "    # Iterate through each document in the 'context'\n",
    "    for document in response['context']:\n",
    "        source_url = document.metadata['source']  # Extract the 'source' URL\n",
    "        unique_urls.add(source_url)  # Add the URL to the set\n",
    "    \n",
    "    # Convert the set of unique URLs to a string\n",
    "    urls_string = '; '.join(unique_urls)\n",
    "    \n",
    "    return urls_string\n",
    "\n",
    "\n",
    "# Invoke the chain and print the response and sources.\n",
    "response = rag_chain_with_source.invoke(\n",
    "    \"چه مراحلی باید برای درخواست پناهندگی در ترکیه طی کنم؟\")\n",
    "answer = response[\"answer\"]\n",
    "prettyResponse = f\"## Answer: \\n\\n {answer} \\n\\n ## Sources: \\n\\n {extract_unique_urls(response)}\"\n",
    "Markdown(prettyResponse)"
   ]
  },
  {
   "cell_type": "code",
   "execution_count": 8,
   "metadata": {},
   "outputs": [],
   "source": [
    "def query_asylum_system(question):\n",
    "    from IPython.display import Markdown, display\n",
    "    # Invoke the LLM chain with the provided question\n",
    "    response = rag_chain_with_source.invoke(question)\n",
    "\n",
    "    # Extract the answer from the response\n",
    "    answer = response[\"answer\"]\n",
    "\n",
    "    # Format the response using Markdown\n",
    "    pretty_response = f\"## Answer: \\n\\n{answer}\\n\\n## Sources:\\n\\n{extract_unique_urls(response)}\"\n",
    "    return pretty_response"
   ]
  },
  {
   "cell_type": "code",
   "execution_count": 9,
   "metadata": {},
   "outputs": [
    {
     "data": {
      "text/markdown": [
       "## Answer: \n",
       "\n",
       " بله، می‌توانم در مورد حقوقی که به عنوان یک پناهجو در ترکیه دارید، توضیحاتی ارائه دهم:\n",
       "\n",
       "درخواست حمایت بین‌المللی به شما حق ماندن قانونی در ترکیه را می‌دهد. شما از خطر اخراج به کشورتان یا هر کشور دیگری که در معرض خطر آن هستید، در امان خواهید بود. همچنین می‌توانید از خدماتی مانند مراقبت‌های بهداشتی و آموزشی به صورت رایگان بهره‌مند شوید.\n",
       "\n",
       "با درخواست پناهندگی، تا زمانی که درخواست شما در حال بررسی است، به زور به کشور مبدأ بازگردانده نمی‌شوید. همچنین با یک مدرک شناسایی، می‌توانید به طور قانونی در ترکیه بمانید.\n",
       "\n",
       "سوری‌ها می‌توانند از حقوقی مانند آموزش و مراقبت‌های بهداشتی رایگان برخوردار شوند. درخواست‌کنندگان حمایت بین‌المللی نیز ممکن است از بیمه درمانی رایگان به مدت یک سال بهره‌مند شوند.\n",
       "\n",
       "خردسالان بدون همراه نیز صرف نظر از وضعیت حمایتی‌شان، می‌توانند از حقوق و خدمات متعددی بهره‌مند شوند.\n",
       "\n",
       "امیدوارم این توضیحات به شما در درک حقوقتان به عنوان یک پناهجو در ترکیه کمک کند. اگر سؤال دیگری دارید، خوشحال می‌شوم پاسخ دهم.\n",
       "\n",
       "## Sources:\n",
       "\n",
       "https://multecihaklari.info/fa/services/%da%a9%d9%85%da%a9-%d9%82%d8%a7%d9%86%d9%88%d9%86%db%8c-2/?section=questions&question=1; https://multecihaklari.info/fa/services/%d8%ab%d8%a8%d8%aa-%d9%86%d8%a7%d9%85-%d9%88%d8%b6%d8%b9%db%8c%d8%aa-2/?section=questions&question=3; https://multecihaklari.info/fa/services/%d8%ac%d8%b2%d9%88%d9%87-%d8%a7%d8%b7%d9%84%d8%a7%d8%b9%d8%a7%d8%aa%db%8c-%d8%a8%d8%b1%d8%a7%db%8c-%d8%a7%d9%81%d8%b1%d8%a7%d8%af-%d8%ae%d8%b1%d8%af%d8%b3%d8%a7%d9%84-%d8%a8%d8%af%d9%88%d9%86-%d9%87/?section=questions&question=18; https://multecihaklari.info/fa/services/%d8%ac%d8%b2%d9%88%d9%87-%d8%a7%d8%b7%d9%84%d8%a7%d8%b9%d8%a7%d8%aa%db%8c-%d8%a8%d8%b1%d8%a7%db%8c-%d8%a7%d9%81%d8%b1%d8%a7%d8%af-%d8%ae%d8%b1%d8%af%d8%b3%d8%a7%d9%84-%d8%a8%d8%af%d9%88%d9%86-%d9%87/?section=questions&question=14"
      ],
      "text/plain": [
       "<IPython.core.display.Markdown object>"
      ]
     },
     "execution_count": 9,
     "metadata": {},
     "output_type": "execute_result"
    }
   ],
   "source": [
    "Markdown(query_asylum_system(\n",
    "    \"آیا می‌توانید درباره حقوقی که به عنوان یک پناهجو در ترکیه دارم توضیح دهید؟\"))"
   ]
  },
  {
   "cell_type": "code",
   "execution_count": 10,
   "metadata": {},
   "outputs": [
    {
     "data": {
      "text/markdown": [
       "## Answer: \n",
       "\n",
       " متأسفانه در مورد مدت زمان لازم برای فرآیند پناهندگی در ترکیه اطلاعات دقیقی در متن فوق وجود ندارد. \n",
       "\n",
       "در متن توضیح داده شده است که پس از ثبت‌نام برای حمایت موقت یا بین‌المللی، شما حق دارید تا زمانی که درخواست شما در حال بررسی است و تا زمانی که در نهایت رد شود، به زور به کشور مبدأ خود بازگردانده نشوید. \n",
       "\n",
       "اما در مورد مدت زمان لازم برای بررسی درخواست پناهندگی اطلاعات دقیقی ارائه نشده است. متأسفانه در این متن نمی‌توانم به سؤال شما در مورد مدت زمان فرآیند پناهندگی در ترکیه پاسخ دهم.\n",
       "\n",
       "## Sources:\n",
       "\n",
       "https://multecihaklari.info/fa/services/%d8%ad%d9%82%d9%88%d9%82-%d9%88-%d8%b1%d9%88%d9%86%d8%af-%d8%a8%d8%b1%d8%a7%db%8c-%d8%a7%d9%81%d8%b1%d8%a7%d8%af-%d8%af%d8%b1-%d8%a8%d8%a7%d8%b2%d8%af%d8%a7%d8%b4%d8%aa-%d8%a7%d8%af%d8%a7%d8%b1%db%8c/?section=questions&question=31; https://multecihaklari.info/fa/services/%d8%ac%d8%b2%d9%88%d9%87-%d8%a7%d8%b7%d9%84%d8%a7%d8%b9%d8%a7%d8%aa%db%8c-%d8%a8%d8%b1%d8%a7%db%8c-%d8%a7%d9%81%d8%b1%d8%a7%d8%af-%d8%ae%d8%b1%d8%af%d8%b3%d8%a7%d9%84-%d8%a8%d8%af%d9%88%d9%86-%d9%87/?section=questions&question=17; https://multecihaklari.info/fa/services/%d8%ac%d8%b2%d9%88%d9%87-%d8%a7%d8%b7%d9%84%d8%a7%d8%b9%d8%a7%d8%aa%db%8c-%d8%a8%d8%b1%d8%a7%db%8c-%d8%a7%d9%81%d8%b1%d8%a7%d8%af-%d8%ae%d8%b1%d8%af%d8%b3%d8%a7%d9%84-%d8%a8%d8%af%d9%88%d9%86-%d9%87/?section=questions&question=14; https://multecihaklari.info/fa/services/%da%a9%d8%a7%d8%b1-2/?section=questions&question=5"
      ],
      "text/plain": [
       "<IPython.core.display.Markdown object>"
      ]
     },
     "execution_count": 10,
     "metadata": {},
     "output_type": "execute_result"
    }
   ],
   "source": [
    "Markdown(query_asylum_system(\n",
    "    \"فرآیند پناهندگی معمولاً چقدر زمان می‌برد در ترکیه؟\"))"
   ]
  },
  {
   "cell_type": "code",
   "execution_count": 11,
   "metadata": {},
   "outputs": [
    {
     "data": {
      "text/markdown": [
       "## Answer: \n",
       "\n",
       " بر اساس اطلاعات ارائه شده در متن، پناهجویان می‌توانند انواع زیر از حمایت‌ها را در ترکیه دریافت کنند:\n",
       "\n",
       "- اسکان رایگان برای کودکان جداشده و بدون همراه در تسهیلات دولتی \n",
       "- امکان اسکان رایگان برای تعداد محدودی از درخواست‌کنندگان پناهندگی که به‌طور ویژه آسیب‌پذیر تلقی می‌شوند\n",
       "- دسترسی به خدمات پشتیبانی و کمک‌رسانی توسط برخی سازمان‌های مردم‌نهاد\n",
       "- برخورداری از حقوق و خدمات اساسی مانند مراقبت‌های پزشکی و آموزش در طول روند رسیدگی به درخواست پناهندگی\n",
       "\n",
       "بنابراین، انواع حمایت‌های ارائه شده به پناهجویان در ترکیه عبارتند از: اسکان رایگان برای گروه‌های خاص، خدمات پشتیبانی توسط NGOها، و برخورداری از حقوق و خدمات پایه در طول روند رسیدگی به پرونده پناهندگی.\n",
       "\n",
       "## Sources:\n",
       "\n",
       "https://multecihaklari.info/fa/services/%d8%ab%d8%a8%d8%aa-%d9%86%d8%a7%d9%85-%d9%88%d8%b6%d8%b9%db%8c%d8%aa-2/?section=questions&question=18; https://multecihaklari.info/fa/services/%d8%ab%d8%a8%d8%aa-%d9%86%d8%a7%d9%85-%d9%88%d8%b6%d8%b9%db%8c%d8%aa-2/?section=questions&question=47; https://multecihaklari.info/fa/services/%d8%ab%d8%a8%d8%aa-%d9%86%d8%a7%d9%85-%d9%88%d8%b6%d8%b9%db%8c%d8%aa-2/?section=questions&question=0; https://multecihaklari.info/fa/services/%d8%ac%d8%b2%d9%88%d9%87-%d8%a7%d8%b7%d9%84%d8%a7%d8%b9%d8%a7%d8%aa%db%8c-%d8%a8%d8%b1%d8%a7%db%8c-%d8%a7%d9%81%d8%b1%d8%a7%d8%af-%d8%ae%d8%b1%d8%af%d8%b3%d8%a7%d9%84-%d8%a8%d8%af%d9%88%d9%86-%d9%87/?section=questions&question=16"
      ],
      "text/plain": [
       "<IPython.core.display.Markdown object>"
      ]
     },
     "execution_count": 11,
     "metadata": {},
     "output_type": "execute_result"
    }
   ],
   "source": [
    "Markdown(query_asylum_system(\n",
    "    \"پناهجویان چه نوع حمایتی می‌توانند در ترکیه دریافت کنند؟\"))"
   ]
  },
  {
   "cell_type": "code",
   "execution_count": 15,
   "metadata": {},
   "outputs": [
    {
     "data": {
      "text/markdown": [
       "## Answer: \n",
       "\n",
       " Based on the knowledge base provided, if your asylum application is denied in Turkey:\n",
       "\n",
       "<p>\n",
       "- The authorities are required to communicate the negative decision and reasons to you or your legal representative. \n",
       "\n",
       "- You have the right to appeal the negative decision. If you are in administrative detention, you typically need to appeal to the administrative court within 15 days of being notified of the decision.\n",
       "\n",
       "- You are allowed to stay in Turkey until there is a final decision on any appeal you file within the time limits. However, you need to notify the Provincial Directorate of Migration Management about your appeal.\n",
       "\n",
       "- You can access legal support to help with your appeal, such as by calling the Detention Hotline of Refugee Rights Turkey.\n",
       "\n",
       "So in summary, you have the right to appeal a negative asylum decision in Turkey, and can stay in the country during that appeal process. There are also options to access legal help with filing and pursuing that appeal.\n",
       "\n",
       "</p>\n",
       "\n",
       "## Sources:\n",
       "\n",
       "https://multecihaklari.info/services/registration-status-2/?section=questions&question=34; https://multecihaklari.info/services/rights-and-procedures-for-persons-in-administrative-detention/?section=questions&question=15; https://multecihaklari.info/services/registration-status-2/?section=questions&question=49"
      ],
      "text/plain": [
       "<IPython.core.display.Markdown object>"
      ]
     },
     "execution_count": 15,
     "metadata": {},
     "output_type": "execute_result"
    }
   ],
   "source": [
    "Markdown(query_asylum_system(\n",
    "    \"What happens if my asylum application is denied in Turkey?\"))"
   ]
  },
  {
   "cell_type": "code",
   "execution_count": 17,
   "metadata": {},
   "outputs": [
    {
     "data": {
      "text/markdown": [
       "## Answer: \n",
       "\n",
       " <p>Yes, according to the information provided, asylum seekers can apply for a work permit in Turkey while their application is pending, with some conditions:</p>\n",
       "\n",
       "<ul>\n",
       "<li>Asylum seekers can apply for a work permit 6 months after submitting their international protection application.</li>\n",
       "<li>Work permit requests for asylum seekers are usually submitted by their employer via the e-Government Gateway system.</li>\n",
       "<li>If the asylum seeker has established their own business in Turkey, they can apply for an \"independent work permit\" themselves.</li>\n",
       "</ul>\n",
       "\n",
       "<p>So in summary, yes asylum seekers can legally work in Turkey while their application is pending, if they meet the requirements around timing and submitting the proper work permit application.</p>\n",
       "\n",
       "The knowledge base covers the conditions and process for asylum seekers to obtain work permits in Turkey, so I've summarized the key points related to your question in my answer. Let me know if you need any clarification or have additional questions!\n",
       "\n",
       "## Sources:\n",
       "\n",
       "https://multecihaklari.info/services/registration-status-2/?section=questions&question=3; https://multecihaklari.info/services/labor-market-2/?section=questions&question=5; https://multecihaklari.info/services/labor-market-2/?section=questions&question=0; https://multecihaklari.info/services/registration-status-2/?section=questions&question=49"
      ],
      "text/plain": [
       "<IPython.core.display.Markdown object>"
      ]
     },
     "execution_count": 17,
     "metadata": {},
     "output_type": "execute_result"
    }
   ],
   "source": [
    "Markdown(query_asylum_system(\n",
    "    \"Can asylum seekers work in Turkey while their application is pending?\"))"
   ]
  },
  {
   "cell_type": "code",
   "execution_count": 18,
   "metadata": {},
   "outputs": [
    {
     "data": {
      "text/markdown": [
       "## Answer: \n",
       "\n",
       " Unfortunately, the knowledge base provided does not include clear information to directly answer the question about where to get information on the status of an asylum application in Turkey. \n",
       "\n",
       "The knowledge base talks about what information authorities should provide when an administrative detention order is revoked, including information on one's status in Turkey, rights and entitlements. It also mentions contacting Refugee Rights Turkey or other NGOs to get information about obligations and procedures to follow after release from detention.\n",
       "\n",
       "However, there is no specific information provided on where to check on the status of an asylum application that has already been submitted. The knowledge base does not seem to cover that particular topic. So I do not have enough context in the provided materials to directly answer the question asked. I apologize that I cannot be more helpful here based on what was provided.\n",
       "\n",
       "## Sources:\n",
       "\n",
       "https://multecihaklari.info/services/rights-and-procedures-for-persons-in-administrative-detention/?section=questions&question=21; https://multecihaklari.info/services/registration-status-2/?section=questions&question=41; https://multecihaklari.info/services/rights-and-procedures-for-persons-in-administrative-detention-2/?section=questions&question=21"
      ],
      "text/plain": [
       "<IPython.core.display.Markdown object>"
      ]
     },
     "execution_count": 18,
     "metadata": {},
     "output_type": "execute_result"
    }
   ],
   "source": [
    "Markdown(query_asylum_system(\n",
    "    \"Where can I get information about the status of my asylum application in Turkey?\"))"
   ]
  },
  {
   "cell_type": "code",
   "execution_count": 19,
   "metadata": {},
   "outputs": [
    {
     "data": {
      "text/markdown": [
       "## Answer: \n",
       "\n",
       " Based on the information provided, if you are a Syrian national applying for temporary protection in Turkey, it is helpful to present your ID documents from Syria when applying. \n",
       "\n",
       "If you are applying for international protection from a country other than Syria, while not required, it will be helpful to share with the migration authorities any ID documents you have brought with you. You are also expected to explain in detail the reasons why you cannot go back to your country of origin.\n",
       "\n",
       "The knowledge base does not specify any other required documents for applying for asylum in Turkey. It focuses more on explaining your situation and why you fear returning to your home country.\n",
       "\n",
       "## Sources:\n",
       "\n",
       "https://multecihaklari.info/services/registration-status-2/?section=questions&question=3; https://multecihaklari.info/services/rights-and-procedures-for-unaccompanied-minors/?section=questions&question=17; https://multecihaklari.info/services/registration-status-2/?section=questions&question=49"
      ],
      "text/plain": [
       "<IPython.core.display.Markdown object>"
      ]
     },
     "execution_count": 19,
     "metadata": {},
     "output_type": "execute_result"
    }
   ],
   "source": [
    "Markdown(query_asylum_system(\n",
    "    \"Are there specific documents I need to provide when applying for asylum in Turkey?\"))"
   ]
  }
 ],
 "metadata": {
  "kernelspec": {
   "display_name": "Python 3",
   "language": "python",
   "name": "python3"
  },
  "language_info": {
   "codemirror_mode": {
    "name": "ipython",
    "version": 3
   },
   "file_extension": ".py",
   "mimetype": "text/x-python",
   "name": "python",
   "nbconvert_exporter": "python",
   "pygments_lexer": "ipython3",
   "version": "3.11.6"
  }
 },
 "nbformat": 4,
 "nbformat_minor": 2
}
