{
 "cells": [
  {
   "cell_type": "markdown",
   "metadata": {},
   "source": [
    "# Implementing Basic RAG QA with Langchain\n",
    "This notebook demonstrates how to implement a basic Retrieval-Augmented Generation (RAG) chain using our FAQ data. The overall approach is as follows:\n",
    "1. Load FAQ Data & Structure Metadata\n",
    "2. Create Embeddings for the FAQ Data using Amazon's Titan Embeddings model, and save these embeddings locally using Chroma.\n",
    "3. Create a Question Answering (QA) chain which retrieves context based on the embeddings saved in Chroma, serving these as context to the Amazon Titan Express LLM to answer the provided user prompt.\n",
    "4. Format the response so that source materials can be cited.\n",
    "\n",
    "This implementation mostly follows these Langchain tutorials:\n",
    "- https://python.langchain.com/docs/modules/data_connection/document_loaders/json#using-jsonloader"
   ]
  },
  {
   "cell_type": "code",
   "execution_count": 32,
   "metadata": {},
   "outputs": [],
   "source": [
    "# Define metadata extraction function so we can filter on sections and return deep links as sources\n",
    "def metadata_func(record: dict, metadata: dict) -> dict:\n",
    "    metadata[\"section\"] = record.get(\"section\")\n",
    "    metadata[\"source\"] = record.get(\"deep_link\")\n",
    "    \n",
    "    return metadata"
   ]
  },
  {
   "cell_type": "code",
   "execution_count": 33,
   "metadata": {},
   "outputs": [],
   "source": [
    "# Import JSON FAQ File using JSONLoader\n",
    "from langchain_community.document_loaders import JSONLoader\n",
    "from pprint import pprint\n",
    "\n",
    "file_path='../data/processed/faq_data/EN_NSYR.json'\n",
    "\n",
    "loader = JSONLoader(\n",
    "    file_path=file_path,\n",
    "    jq_schema=\".[]\",\n",
    "    content_key=\"answer\",\n",
    "    metadata_func=metadata_func\n",
    ")\n",
    "\n",
    "data = loader.load()"
   ]
  },
  {
   "cell_type": "code",
   "execution_count": 34,
   "metadata": {},
   "outputs": [],
   "source": [
    "from langchain_community.embeddings import BedrockEmbeddings\n",
    "from langchain_community.vectorstores import Chroma\n",
    "\n",
    "embeddings = BedrockEmbeddings(\n",
    "    model_id=\"amazon.titan-embed-text-v1\", region_name=\"us-east-1\"\n",
    ")\n",
    "persistDirectory = './data/processed/faq_data/vectordata/EN_NSYR'\n",
    "vectorstore = Chroma.from_documents(\n",
    "    documents=data, embedding=embeddings, persist_directory=persistDirectory)\n",
    "vectorstore.persist()"
   ]
  },
  {
   "cell_type": "markdown",
   "metadata": {},
   "source": [
    "Run the cells below to re-use already-generated vector embeddings."
   ]
  },
  {
   "cell_type": "code",
   "execution_count": 1,
   "metadata": {},
   "outputs": [],
   "source": [
    "from langchain_community.embeddings import BedrockEmbeddings\n",
    "from langchain_community.vectorstores import Chroma\n",
    "\n",
    "embeddings = BedrockEmbeddings(\n",
    "    model_id=\"amazon.titan-embed-text-v1\", region_name=\"us-east-1\"\n",
    ")\n",
    "\n",
    "persistDirectory = './data/processed/faq_data/vectordata/EN_NSYR'\n",
    "# Retrieve and generate answers using relevant FAQs\n",
    "vectordb = Chroma(persist_directory=persistDirectory,\n",
    "                  embedding_function=embeddings)\n",
    "\n",
    "retriever = vectordb.as_retriever()"
   ]
  },
  {
   "cell_type": "code",
   "execution_count": 2,
   "metadata": {},
   "outputs": [],
   "source": [
    "from utils import CreateInferenceModifier # Import the function from utils.py\n",
    "from langchain import hub\n",
    "from langchain_community.llms import Bedrock\n",
    "from langchain_core.runnables import RunnablePassthrough\n",
    "from langchain_core.output_parsers import StrOutputParser\n",
    "from langchain_core.prompts import PromptTemplate\n",
    "\n",
    "prompt_template = \"\"\"Drawing from your knowledge base, answer the question below.\n",
    "If you don't know the answer from the provided context, tell me that your training materials don't include this information.\n",
    "Keep the answer as concise and relevant to the question as possible.\n",
    "\n",
    "Knowledge Base: {context}\n",
    "\n",
    "Question: {question}\n",
    "\n",
    "Helpful Answer:\"\"\"\n",
    "custom_rag_prompt = PromptTemplate.from_template(prompt_template)\n",
    "\n",
    "\n",
    "# Define the universal set of modifier parameters\n",
    "modifiers = {\"max_tokens\": 4000,\n",
    "             \"temperature\": 0.2,\n",
    "             \"top_k\": 250,\n",
    "             \"top_p\": 1,\n",
    "             \"stop_sequences\": [\"\\n\\nHuman\"],\n",
    "             }\n",
    "\n",
    "\n",
    "llm = Bedrock(model_id=\"anthropic.claude-v2:1\",\n",
    "              model_kwargs=CreateInferenceModifier(\"claude\", params=modifiers))\n",
    "\n",
    "def format_docs(docs):\n",
    "    return \"\\n\\n\".join(doc.page_content for doc in docs)\n",
    "\n",
    "from langchain_core.runnables import RunnableParallel\n",
    "\n",
    "rag_chain_from_docs = (\n",
    "    RunnablePassthrough.assign(context=(lambda x: format_docs(x[\"context\"])))\n",
    "    | custom_rag_prompt\n",
    "    | llm\n",
    "    | StrOutputParser()\n",
    ")\n",
    "\n",
    "rag_chain_with_source = RunnableParallel(\n",
    "    {\"context\": retriever, \"question\": RunnablePassthrough()}\n",
    ").assign(answer=rag_chain_from_docs)"
   ]
  },
  {
   "cell_type": "code",
   "execution_count": 3,
   "metadata": {},
   "outputs": [
    {
     "data": {
      "text/markdown": [
       "## Answer: \n",
       "\n",
       "  Based on the knowledge base provided, to study at a university in Turkey you need:\n",
       "\n",
       "1) To graduate from high school\n",
       "2) Meet other conditions for university entrance, such as taking the Foreigner Student Exam (Yabancı Öğrenci Sınavı – YÖS) and obtaining a score that meets the requirements of the university you want to attend\n",
       "3) If you graduated from a school outside of Turkey or cannot demonstrate previous school attendance, you need to register at Open Education High School (Açık Öğretim Lisesi)\n",
       "4) Pass the Examination for Foreign Students (YÖS) organized by universities\n",
       "5) Potentially demonstrate language proficiency depending on university/department requirements\n",
       "6) Consult university websites/foreign student departments for detailed requirements and announcements\n",
       "\n",
       "The knowledge base does not provide any additional information beyond these key points regarding what is needed to study at a university in Turkey. Please let me know if you need any clarification or have additional questions. \n",
       "\n",
       " ## Sources: \n",
       "\n",
       " https://multecihaklari.info/services/rights-and-procedures-for-unaccompanied-minors-2/?section=questions&question=16; https://multecihaklari.info/services/rights-and-procedures-for-unaccompanied-minors/?section=questions&question=16; https://multecihaklari.info/services/education/?section=questions&question=9"
      ],
      "text/plain": [
       "<IPython.core.display.Markdown object>"
      ]
     },
     "execution_count": 3,
     "metadata": {},
     "output_type": "execute_result"
    }
   ],
   "source": [
    "# Define a function to extract unique URLs used in the retrieved source materials.\n",
    "from IPython.display import Markdown, display\n",
    "def extract_unique_urls(response):\n",
    "    unique_urls = set()  # Use a set to store unique URLs\n",
    "    \n",
    "    # Iterate through each document in the 'context'\n",
    "    for document in response['context']:\n",
    "        source_url = document.metadata['source']  # Extract the 'source' URL\n",
    "        unique_urls.add(source_url)  # Add the URL to the set\n",
    "    \n",
    "    # Convert the set of unique URLs to a string\n",
    "    urls_string = '; '.join(unique_urls)\n",
    "    \n",
    "    return urls_string\n",
    "\n",
    "# Invoke the chain and print the response and sources.\n",
    "response = rag_chain_with_source.invoke(\"What do I need to study at a university in Turkey?\")\n",
    "answer = response[\"answer\"]\n",
    "prettyResponse = f\"## Answer: \\n\\n {answer} \\n\\n ## Sources: \\n\\n {extract_unique_urls(response)}\"\n",
    "Markdown(prettyResponse)"
   ]
  },
  {
   "cell_type": "code",
   "execution_count": null,
   "metadata": {},
   "outputs": [],
   "source": []
  },
  {
   "cell_type": "code",
   "execution_count": 12,
   "metadata": {},
   "outputs": [],
   "source": [
    "def query_asylum_system(question):\n",
    "    from IPython.display import Markdown, display\n",
    "    # Invoke the LLM chain with the provided question\n",
    "    response = rag_chain_with_source.invoke(question)\n",
    "\n",
    "    # Extract the answer from the response\n",
    "    answer = response[\"answer\"]\n",
    "\n",
    "    # Format the response using Markdown\n",
    "    pretty_response = f\"## Answer: \\n\\n{answer}\\n\\n## Sources:\\n\\n{extract_unique_urls(response)}\"\n",
    "    return pretty_response"
   ]
  },
  {
   "cell_type": "code",
   "execution_count": 13,
   "metadata": {},
   "outputs": [
    {
     "data": {
      "text/markdown": [
       "## Answer: \n",
       "\n",
       " <p>According to the knowledge base provided, to apply for asylum in Turkey:</p>\n",
       "\n",
       "<ul>\n",
       "<li>If you are Syrian, you need to apply for \"temporary protection\" at the Provincial Directorate for Migration Management. It is helpful to provide any Syrian ID documents you have.</li>\n",
       "<li>If you are from another country, you need to apply for \"international protection.\" You should explain in detail why you cannot return to your country of origin. Providing any ID documents you have and explaining why you fear returning can be helpful.</li> \n",
       "<li>You can contact Refugee Rights Turkey for more information on the registration procedures and process after registering.</li>\n",
       "</ul>\n",
       "\n",
       "<p>The knowledge base does not include information about applying for asylum from another country or being resettled to another country from Turkey. It focuses on the process for applying for protection within Turkey itself.</p>\n",
       "\n",
       "## Sources:\n",
       "\n",
       "https://multecihaklari.info/services/registration-status-2/?section=questions&question=3; https://multecihaklari.info/services/rights-and-procedures-for-unaccompanied-minors/?section=questions&question=17; https://multecihaklari.info/services/registration-status-2/?section=questions&question=41; https://multecihaklari.info/services/registration-status-2/?section=questions&question=49"
      ],
      "text/plain": [
       "<IPython.core.display.Markdown object>"
      ]
     },
     "execution_count": 13,
     "metadata": {},
     "output_type": "execute_result"
    }
   ],
   "source": [
    "Markdown(query_asylum_system(\"What steps do I need to take to apply for asylum in Turkey?\"))"
   ]
  },
  {
   "cell_type": "code",
   "execution_count": 14,
   "metadata": {},
   "outputs": [
    {
     "data": {
      "text/markdown": [
       "## Answer: \n",
       "\n",
       " Based on the knowledge base provided, as an asylum seeker in Turkey you have the following rights:\n",
       "\n",
       "- The right to legally stay in Turkey while your international protection application is being processed. This protects you from the risk of deportation.\n",
       "\n",
       "- Access to certain services such as education and healthcare for one year after submitting your international protection application. \n",
       "\n",
       "- All services provided by Refugee Rights Turkey to asylum seekers are free of charge. You should report anyone claiming to represent Refugee Rights Turkey who asks for money or other benefits.\n",
       "\n",
       "The knowledge base does not provide any additional specific information about rights for asylum seekers in Turkey beyond what is summarized here. Please let me know if you need any clarification or have additional questions.\n",
       "\n",
       "## Sources:\n",
       "\n",
       "https://multecihaklari.info/services/registration-status-2/?section=questions&question=3; https://multecihaklari.info/services/rights-and-procedures-for-persons-in-administrative-detention/?section=questions&question=30; https://multecihaklari.info/services/rights-and-procedures-for-persons-in-administrative-detention-2/?section=questions&question=30"
      ],
      "text/plain": [
       "<IPython.core.display.Markdown object>"
      ]
     },
     "execution_count": 14,
     "metadata": {},
     "output_type": "execute_result"
    }
   ],
   "source": [
    "Markdown(query_asylum_system(\n",
    "    \"Can you tell me about the rights I have as an asylum seeker in Turkey?\"))"
   ]
  },
  {
   "cell_type": "code",
   "execution_count": 16,
   "metadata": {},
   "outputs": [
    {
     "data": {
      "text/markdown": [
       "## Answer: \n",
       "\n",
       " Unfortunately, my training materials do not include specific information about how long the asylum process usually takes in Turkey. The passages state that there is no legal time limit to file an international protection application and advise asylum seekers to approach authorities and initiate asylum proceedings as quickly as possible after arrival. But there is no clear statement about the typical duration of the overall asylum process. Without more context in my knowledge base, I cannot reliably state how long it generally takes. I apologize that I don't have enough information to directly answer the question asked. Please let me know if you need any clarification or have a different question I may be able to assist with.\n",
       "\n",
       "## Sources:\n",
       "\n",
       "https://multecihaklari.info/services/registration-status-2/?section=questions&question=34; https://multecihaklari.info/services/registration-status-2/?section=questions&question=5; https://multecihaklari.info/services/registration-status-2/?section=questions&question=49; https://multecihaklari.info/services/registration-status-2/?section=questions&question=42"
      ],
      "text/plain": [
       "<IPython.core.display.Markdown object>"
      ]
     },
     "execution_count": 16,
     "metadata": {},
     "output_type": "execute_result"
    }
   ],
   "source": [
    "Markdown(query_asylum_system(\n",
    "    \"How long does the asylum process usually take in Turkey?\"))"
   ]
  },
  {
   "cell_type": "code",
   "execution_count": 15,
   "metadata": {},
   "outputs": [
    {
     "data": {
      "text/markdown": [
       "## Answer: \n",
       "\n",
       " Based on the knowledge base provided, if your asylum application is denied in Turkey:\n",
       "\n",
       "<p>\n",
       "- The authorities are required to communicate the negative decision and reasons to you or your legal representative. \n",
       "\n",
       "- You have the right to appeal the negative decision. If you are in administrative detention, you typically need to appeal to the administrative court within 15 days of being notified of the decision.\n",
       "\n",
       "- You are allowed to stay in Turkey until there is a final decision on any appeal you file within the time limits. However, you need to notify the Provincial Directorate of Migration Management about your appeal.\n",
       "\n",
       "- You can access legal support to help with your appeal, such as by calling the Detention Hotline of Refugee Rights Turkey.\n",
       "\n",
       "So in summary, you have the right to appeal a negative asylum decision in Turkey, and can stay in the country during that appeal process. There are also options to access legal help with filing and pursuing that appeal.\n",
       "\n",
       "</p>\n",
       "\n",
       "## Sources:\n",
       "\n",
       "https://multecihaklari.info/services/registration-status-2/?section=questions&question=34; https://multecihaklari.info/services/rights-and-procedures-for-persons-in-administrative-detention/?section=questions&question=15; https://multecihaklari.info/services/registration-status-2/?section=questions&question=49"
      ],
      "text/plain": [
       "<IPython.core.display.Markdown object>"
      ]
     },
     "execution_count": 15,
     "metadata": {},
     "output_type": "execute_result"
    }
   ],
   "source": [
    "Markdown(query_asylum_system(\n",
    "    \"What happens if my asylum application is denied in Turkey?\"))"
   ]
  },
  {
   "cell_type": "code",
   "execution_count": 17,
   "metadata": {},
   "outputs": [
    {
     "data": {
      "text/markdown": [
       "## Answer: \n",
       "\n",
       " <p>Yes, according to the information provided, asylum seekers can apply for a work permit in Turkey while their application is pending, with some conditions:</p>\n",
       "\n",
       "<ul>\n",
       "<li>Asylum seekers can apply for a work permit 6 months after submitting their international protection application.</li>\n",
       "<li>Work permit requests for asylum seekers are usually submitted by their employer via the e-Government Gateway system.</li>\n",
       "<li>If the asylum seeker has established their own business in Turkey, they can apply for an \"independent work permit\" themselves.</li>\n",
       "</ul>\n",
       "\n",
       "<p>So in summary, yes asylum seekers can legally work in Turkey while their application is pending, if they meet the requirements around timing and submitting the proper work permit application.</p>\n",
       "\n",
       "The knowledge base covers the conditions and process for asylum seekers to obtain work permits in Turkey, so I've summarized the key points related to your question in my answer. Let me know if you need any clarification or have additional questions!\n",
       "\n",
       "## Sources:\n",
       "\n",
       "https://multecihaklari.info/services/registration-status-2/?section=questions&question=3; https://multecihaklari.info/services/labor-market-2/?section=questions&question=5; https://multecihaklari.info/services/labor-market-2/?section=questions&question=0; https://multecihaklari.info/services/registration-status-2/?section=questions&question=49"
      ],
      "text/plain": [
       "<IPython.core.display.Markdown object>"
      ]
     },
     "execution_count": 17,
     "metadata": {},
     "output_type": "execute_result"
    }
   ],
   "source": [
    "Markdown(query_asylum_system(\n",
    "    \"Can asylum seekers work in Turkey while their application is pending?\"))"
   ]
  },
  {
   "cell_type": "code",
   "execution_count": 18,
   "metadata": {},
   "outputs": [
    {
     "data": {
      "text/markdown": [
       "## Answer: \n",
       "\n",
       " Unfortunately, the knowledge base provided does not include clear information to directly answer the question about where to get information on the status of an asylum application in Turkey. \n",
       "\n",
       "The knowledge base talks about what information authorities should provide when an administrative detention order is revoked, including information on one's status in Turkey, rights and entitlements. It also mentions contacting Refugee Rights Turkey or other NGOs to get information about obligations and procedures to follow after release from detention.\n",
       "\n",
       "However, there is no specific information provided on where to check on the status of an asylum application that has already been submitted. The knowledge base does not seem to cover that particular topic. So I do not have enough context in the provided materials to directly answer the question asked. I apologize that I cannot be more helpful here based on what was provided.\n",
       "\n",
       "## Sources:\n",
       "\n",
       "https://multecihaklari.info/services/rights-and-procedures-for-persons-in-administrative-detention/?section=questions&question=21; https://multecihaklari.info/services/registration-status-2/?section=questions&question=41; https://multecihaklari.info/services/rights-and-procedures-for-persons-in-administrative-detention-2/?section=questions&question=21"
      ],
      "text/plain": [
       "<IPython.core.display.Markdown object>"
      ]
     },
     "execution_count": 18,
     "metadata": {},
     "output_type": "execute_result"
    }
   ],
   "source": [
    "Markdown(query_asylum_system(\n",
    "    \"Where can I get information about the status of my asylum application in Turkey?\"))"
   ]
  },
  {
   "cell_type": "code",
   "execution_count": 19,
   "metadata": {},
   "outputs": [
    {
     "data": {
      "text/markdown": [
       "## Answer: \n",
       "\n",
       " Based on the information provided, if you are a Syrian national applying for temporary protection in Turkey, it is helpful to present your ID documents from Syria when applying. \n",
       "\n",
       "If you are applying for international protection from a country other than Syria, while not required, it will be helpful to share with the migration authorities any ID documents you have brought with you. You are also expected to explain in detail the reasons why you cannot go back to your country of origin.\n",
       "\n",
       "The knowledge base does not specify any other required documents for applying for asylum in Turkey. It focuses more on explaining your situation and why you fear returning to your home country.\n",
       "\n",
       "## Sources:\n",
       "\n",
       "https://multecihaklari.info/services/registration-status-2/?section=questions&question=3; https://multecihaklari.info/services/rights-and-procedures-for-unaccompanied-minors/?section=questions&question=17; https://multecihaklari.info/services/registration-status-2/?section=questions&question=49"
      ],
      "text/plain": [
       "<IPython.core.display.Markdown object>"
      ]
     },
     "execution_count": 19,
     "metadata": {},
     "output_type": "execute_result"
    }
   ],
   "source": [
    "Markdown(query_asylum_system(\n",
    "    \"Are there specific documents I need to provide when applying for asylum in Turkey?\"))"
   ]
  }
 ],
 "metadata": {
  "kernelspec": {
   "display_name": "Python 3",
   "language": "python",
   "name": "python3"
  },
  "language_info": {
   "codemirror_mode": {
    "name": "ipython",
    "version": 3
   },
   "file_extension": ".py",
   "mimetype": "text/x-python",
   "name": "python",
   "nbconvert_exporter": "python",
   "pygments_lexer": "ipython3",
   "version": "3.11.6"
  }
 },
 "nbformat": 4,
 "nbformat_minor": 2
}
