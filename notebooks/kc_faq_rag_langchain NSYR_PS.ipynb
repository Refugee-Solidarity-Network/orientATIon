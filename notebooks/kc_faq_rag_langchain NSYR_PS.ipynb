{
 "cells": [
  {
   "cell_type": "markdown",
   "metadata": {},
   "source": [
    "# Implementing Basic RAG QA with Langchain\n",
    "This notebook demonstrates how to implement a basic Retrieval-Augmented Generation (RAG) chain using our FAQ data. The overall approach is as follows:\n",
    "1. Load FAQ Data & Structure Metadata\n",
    "2. Create Embeddings for the FAQ Data using Amazon's Titan Embeddings model, and save these embeddings locally using Chroma.\n",
    "3. Create a Question Answering (QA) chain which retrieves context based on the embeddings saved in Chroma, serving these as context to the Amazon Titan Express LLM to answer the provided user prompt.\n",
    "4. Format the response so that source materials can be cited.\n",
    "\n",
    "This implementation mostly follows these Langchain tutorials:\n",
    "- https://python.langchain.com/docs/modules/data_connection/document_loaders/json#using-jsonloader"
   ]
  },
  {
   "cell_type": "code",
   "execution_count": 1,
   "metadata": {},
   "outputs": [],
   "source": [
    "# Define metadata extraction function so we can filter on sections and return deep links as sources\n",
    "def metadata_func(record: dict, metadata: dict) -> dict:\n",
    "    metadata[\"section\"] = record.get(\"section\")\n",
    "    metadata[\"source\"] = record.get(\"deep_link\")\n",
    "    \n",
    "    return metadata"
   ]
  },
  {
   "cell_type": "code",
   "execution_count": 2,
   "metadata": {},
   "outputs": [],
   "source": [
    "# Import JSON FAQ File using JSONLoader\n",
    "from langchain_community.document_loaders import JSONLoader\n",
    "from pprint import pprint\n",
    "\n",
    "file_path='../data/processed/faq_data/PS_NSYR.json'\n",
    "\n",
    "loader = JSONLoader(\n",
    "    file_path=file_path,\n",
    "    jq_schema=\".[]\",\n",
    "    content_key=\"answer\",\n",
    "    metadata_func=metadata_func\n",
    ")\n",
    "\n",
    "data = loader.load()"
   ]
  },
  {
   "cell_type": "code",
   "execution_count": 3,
   "metadata": {},
   "outputs": [],
   "source": [
    "from langchain_community.embeddings import BedrockEmbeddings\n",
    "from langchain_community.vectorstores import Chroma\n",
    "\n",
    "embeddings = BedrockEmbeddings(\n",
    "    model_id=\"amazon.titan-embed-text-v1\", region_name=\"us-east-1\"\n",
    ")\n",
    "persistDirectory = './data/processed/faq_data/vectordata/PS_NSYR'\n",
    "vectorstore = Chroma.from_documents(\n",
    "    documents=data, embedding=embeddings, persist_directory=persistDirectory)\n",
    "vectorstore.persist()"
   ]
  },
  {
   "cell_type": "markdown",
   "metadata": {},
   "source": [
    "Run the cells below to re-use already-generated vector embeddings."
   ]
  },
  {
   "cell_type": "code",
   "execution_count": 4,
   "metadata": {},
   "outputs": [],
   "source": [
    "from langchain_community.embeddings import BedrockEmbeddings\n",
    "from langchain_community.vectorstores import Chroma\n",
    "\n",
    "embeddings = BedrockEmbeddings(\n",
    "    model_id=\"amazon.titan-embed-text-v1\", region_name=\"us-east-1\"\n",
    ")\n",
    "\n",
    "persistDirectory = './data/processed/faq_data/vectordata/PS_NSYR'\n",
    "# Retrieve and generate answers using relevant FAQs\n",
    "vectordb = Chroma(persist_directory=persistDirectory,\n",
    "                  embedding_function=embeddings)\n",
    "\n",
    "retriever = vectordb.as_retriever()"
   ]
  },
  {
   "cell_type": "code",
   "execution_count": 5,
   "metadata": {},
   "outputs": [],
   "source": [
    "from utils import CreateInferenceModifier # Import the function from utils.py\n",
    "from langchain import hub\n",
    "from langchain_community.llms import Bedrock\n",
    "from langchain_core.runnables import RunnablePassthrough\n",
    "from langchain_core.output_parsers import StrOutputParser\n",
    "from langchain_core.prompts import PromptTemplate\n",
    "\n",
    "prompt_template = \"\"\"Drawing from your knowledge base, answer the question below.\n",
    "If you don't know the answer from the provided context, tell me that your training materials don't include this information.\n",
    "Keep the answer as concise and relevant to the question as possible.\n",
    "\n",
    "Knowledge Base: {context}\n",
    "\n",
    "Question: {question}\n",
    "\n",
    "Helpful Answer:\"\"\"\n",
    "custom_rag_prompt = PromptTemplate.from_template(prompt_template)\n",
    "\n",
    "\n",
    "# Define the universal set of modifier parameters\n",
    "modifiers = {\"max_tokens\": 4000,\n",
    "             \"temperature\": 0.2,\n",
    "             \"top_k\": 250,\n",
    "             \"top_p\": 1,\n",
    "             \"stop_sequences\": [\"\\n\\nHuman\"],\n",
    "             }\n",
    "\n",
    "\n",
    "llm = Bedrock(model_id=\"anthropic.claude-v2:1\",\n",
    "              model_kwargs=CreateInferenceModifier(\"claude\", params=modifiers))\n",
    "\n",
    "def format_docs(docs):\n",
    "    return \"\\n\\n\".join(doc.page_content for doc in docs)\n",
    "\n",
    "from langchain_core.runnables import RunnableParallel\n",
    "\n",
    "rag_chain_from_docs = (\n",
    "    RunnablePassthrough.assign(context=(lambda x: format_docs(x[\"context\"])))\n",
    "    | custom_rag_prompt\n",
    "    | llm\n",
    "    | StrOutputParser()\n",
    ")\n",
    "\n",
    "rag_chain_with_source = RunnableParallel(\n",
    "    {\"context\": retriever, \"question\": RunnablePassthrough()}\n",
    ").assign(answer=rag_chain_from_docs)"
   ]
  },
  {
   "cell_type": "code",
   "execution_count": 6,
   "metadata": {},
   "outputs": [
    {
     "data": {
      "text/markdown": [
       "## Answer: \n",
       "\n",
       "  زما د زده کړې موادو له مخې، په ترکیه کې د پناه غوښتنې لپاره باید دا ګامونه واخیستل شي:\n",
       "\n",
       "<p><span style=\"font-weight: 400;\">که تاسو د سوریې هیواد اتباع یاست نو د لنډمهاله خوندیتوب لپاره ځان راجستر کړئ او که چیرته تاسو د سوریې پرته د کوم بل هیواد اتباع یاست نو باید د نړیوال خوندیتوب لپاره ځان راجستر کړئ.</span></p>\n",
       "\n",
       "<p><span style=\"font-weight: 400;\">په ترکیه کې د لنډمهاله خوندیتوب یا نړیوال خوندیتوب لپاره د غوښتنلیک سپارلو وروسته، تاسو حق لرئ چې په جبري توګه بیرته خپل اصلي هیواد ته نه واستول شئ (یا ډیپورټ نه شئ). دا پداسې حال کې ده چې ستاسو غوښتنلیک ته به بیاکتنه وشي او تر هغه چې دا په پای کې رد شوی نه وي.</span></p>\n",
       "\n",
       "<p><span style=\"font-weight: 400;\">په ورته ډول، که تاسو د لنډمهاله محافظت یا نړیوال محافظت لاندې نوم لیکنه وکړئ تاسو حق لرئ چې په قانوني توګه په ترکیه کې د لنډمهاله محافظت پیژندنې سند یا د نړیوال محافظت غوښتونکي سند سره پاتې شئ.</span></p> \n",
       "\n",
       " ## Sources: \n",
       "\n",
       " https://multecihaklari.info/ps/services/%d8%af-%d8%a8%db%90-%d8%b3%d8%b1%d9%be%d8%b1%d8%b3%d8%aa%d9%87-%da%a9%d9%88%da%86%d9%86%db%8c%d8%a7%d9%86%d9%88-%d9%84%d9%be%d8%a7%d8%b1%d9%87-%d8%ad%d9%82%d9%88%d9%82-%d8%a7%d9%88-%d9%be%d8%b1%d9%88/?section=questions&question=18; https://multecihaklari.info/ps/services/%d8%af-%d8%a8%db%90-%d8%b3%d8%b1%d9%be%d8%b1%d8%b3%d8%aa%d9%87-%da%a9%d9%88%da%86%d9%86%db%8c%d8%a7%d9%86%d9%88-%d9%84%d9%be%d8%a7%d8%b1%d9%87-%d8%ad%d9%82%d9%88%d9%82-%d8%a7%d9%88-%d9%be%d8%b1%d9%88/?section=questions&question=21; https://multecihaklari.info/ps/services/%d8%af-%d8%a8%db%90-%d8%b3%d8%b1%d9%be%d8%b1%d8%b3%d8%aa%d9%87-%da%a9%d9%88%da%86%d9%86%db%8c%d8%a7%d9%86%d9%88-%d9%84%d9%be%d8%a7%d8%b1%d9%87-%d8%ad%d9%82%d9%88%d9%82-%d8%a7%d9%88-%d9%be%d8%b1%d9%88/?section=questions&question=11; https://multecihaklari.info/ps/services/rent-and-property-6/?section=questions&question=17"
      ],
      "text/plain": [
       "<IPython.core.display.Markdown object>"
      ]
     },
     "execution_count": 6,
     "metadata": {},
     "output_type": "execute_result"
    }
   ],
   "source": [
    "# Define a function to extract unique URLs used in the retrieved source materials.\n",
    "from IPython.display import Markdown, display\n",
    "def extract_unique_urls(response):\n",
    "    unique_urls = set()  # Use a set to store unique URLs\n",
    "    \n",
    "    # Iterate through each document in the 'context'\n",
    "    for document in response['context']:\n",
    "        source_url = document.metadata['source']  # Extract the 'source' URL\n",
    "        unique_urls.add(source_url)  # Add the URL to the set\n",
    "    \n",
    "    # Convert the set of unique URLs to a string\n",
    "    urls_string = '; '.join(unique_urls)\n",
    "    \n",
    "    return urls_string\n",
    "\n",
    "\n",
    "# Invoke the chain and print the response and sources.\n",
    "response = rag_chain_with_source.invoke(\n",
    "    \"زه به د ترکیې پناه غوښتنې لپاره کوم ګامونه اخیستل ضروري دي؟\")\n",
    "answer = response[\"answer\"]\n",
    "prettyResponse = f\"## Answer: \\n\\n {answer} \\n\\n ## Sources: \\n\\n {extract_unique_urls(response)}\"\n",
    "Markdown(prettyResponse)"
   ]
  },
  {
   "cell_type": "code",
   "execution_count": 7,
   "metadata": {},
   "outputs": [],
   "source": [
    "def query_asylum_system(question):\n",
    "    from IPython.display import Markdown, display\n",
    "    # Invoke the LLM chain with the provided question\n",
    "    response = rag_chain_with_source.invoke(question)\n",
    "\n",
    "    # Extract the answer from the response\n",
    "    answer = response[\"answer\"]\n",
    "\n",
    "    # Format the response using Markdown\n",
    "    pretty_response = f\"## Answer: \\n\\n{answer}\\n\\n## Sources:\\n\\n{extract_unique_urls(response)}\"\n",
    "    return pretty_response"
   ]
  },
  {
   "cell_type": "code",
   "execution_count": 9,
   "metadata": {},
   "outputs": [
    {
     "data": {
      "text/markdown": [
       "## Answer: \n",
       "\n",
       " <p><span style=\"font-weight: 400;\">په ترکیه کې د پناه غوښتنلیک پروسه کېدای شي چې څو میاشتې یا کلونه ونیسي، په تابع د ستاسو د هیواد او شخصي حالت سره.</span></p>\n",
       "\n",
       "<p><span style=\"font-weight: 400;\">که چیرې تاسو د سوریې اتباع یاست، تاسې به د لنډمهاله خوندیتوب لپاره غوښتنلیک وړاندې کړئ. د لنډمهاله خوندیتوب د غوښتنلیک پروسه کېدای شي چې څو میاشتې ونیسي.</span></p>\n",
       "\n",
       "<p><span style=\"font-weight: 400;\">که چیرې تاسو د سوریې پرته د نورو هیوادونو اتباع یاست، تاسو به د نړیوال خوندیتوب لپاره غوښتنلیک وړاندې کړئ. د نړیوال خوندیتوب د غوښتنلیک پروسه کېدای شي چې څو کلونه ونیسي.</span></p>\n",
       "\n",
       "<p><span style=\"font-weight: 400;\">په عمومي توګه، د پناه غوښتنې پروسه کېدای شي چې لنډه وي که چیرې ستاسو غوښتنلیک ډېر قوي مدارک ولري او ستاسو د هیواد حالت داسې وي چې تاسو ته د پناه ورکولو د کنوانسیون د معیارونو سره سمون وکړي. برعکس، که چیرې ستاسو حالت پیچلی وي او/یا ستاسو غوښتنلیک کمزوری مدارک ولري، د پروسې موده کېدای شي چې اوږده وي.</span></p>\n",
       "\n",
       "<p><span style=\"font-weight: 400;\">په هر صورت کې، تاسو کولای شئ د خپلې پروسې پر مهال د خپل مشاور څخه منظمه معلومات ترلاسه کړئ. دوی کولی شي ستاسو سره مرسته وکړي چې پوه شئ ستاسو پروسه چیرته پر مخ وړي او کوم احتمالي ګامونه باید واخیستل شي.</span></p>\n",
       "\n",
       "## Sources:\n",
       "\n",
       "https://multecihaklari.info/ps/services/%d8%af-%d8%a8%db%90-%d8%b3%d8%b1%d9%be%d8%b1%d8%b3%d8%aa%d9%87-%da%a9%d9%88%da%86%d9%86%db%8c%d8%a7%d9%86%d9%88-%d9%84%d9%be%d8%a7%d8%b1%d9%87-%d8%ad%d9%82%d9%88%d9%82-%d8%a7%d9%88-%d9%be%d8%b1%d9%88/?section=questions&question=18; https://multecihaklari.info/ps/services/%d8%af-%d8%a8%db%90-%d8%b3%d8%b1%d9%be%d8%b1%d8%b3%d8%aa%d9%87-%da%a9%d9%88%da%86%d9%86%db%8c%d8%a7%d9%86%d9%88-%d9%84%d9%be%d8%a7%d8%b1%d9%87-%d8%ad%d9%82%d9%88%d9%82-%d8%a7%d9%88-%d9%be%d8%b1%d9%88/?section=questions&question=21; https://multecihaklari.info/ps/services/%d8%af-%d8%a8%db%90-%d8%b3%d8%b1%d9%be%d8%b1%d8%b3%d8%aa%d9%87-%da%a9%d9%88%da%86%d9%86%db%8c%d8%a7%d9%86%d9%88-%d9%84%d9%be%d8%a7%d8%b1%d9%87-%d8%ad%d9%82%d9%88%d9%82-%d8%a7%d9%88-%d9%be%d8%b1%d9%88/?section=questions&question=15; https://multecihaklari.info/ps/services/%d8%af-%d8%a8%db%90-%d8%b3%d8%b1%d9%be%d8%b1%d8%b3%d8%aa%d9%87-%da%a9%d9%88%da%86%d9%86%db%8c%d8%a7%d9%86%d9%88-%d9%84%d9%be%d8%a7%d8%b1%d9%87-%d8%ad%d9%82%d9%88%d9%82-%d8%a7%d9%88-%d9%be%d8%b1%d9%88/?section=questions&question=12"
      ],
      "text/plain": [
       "<IPython.core.display.Markdown object>"
      ]
     },
     "execution_count": 9,
     "metadata": {},
     "output_type": "execute_result"
    }
   ],
   "source": [
    "Markdown(query_asylum_system(\n",
    "    \"په ترکیه کې د پناه غوښتنلیک پروسه عموما څومره وخت نیسي؟\"))"
   ]
  }
 ],
 "metadata": {
  "kernelspec": {
   "display_name": "Python 3",
   "language": "python",
   "name": "python3"
  },
  "language_info": {
   "codemirror_mode": {
    "name": "ipython",
    "version": 3
   },
   "file_extension": ".py",
   "mimetype": "text/x-python",
   "name": "python",
   "nbconvert_exporter": "python",
   "pygments_lexer": "ipython3",
   "version": "3.11.6"
  }
 },
 "nbformat": 4,
 "nbformat_minor": 2
}
