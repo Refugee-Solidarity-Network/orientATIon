{
 "cells": [
  {
   "cell_type": "code",
   "execution_count": 2,
   "metadata": {},
   "outputs": [
    {
     "name": "stdout",
     "output_type": "stream",
     "text": [
      "\n",
      "\n",
      "\u001b[1m> Entering new ConversationChain chain...\u001b[0m\n",
      "Prompt after formatting:\n",
      "\u001b[32;1m\u001b[1;3mThe following is a friendly conversation between a human and an AI. The AI is talkative and provides lots of specific details from its context. If the AI does not know the answer to a question, it truthfully says it does not know.\n",
      "\n",
      "Current conversation:\n",
      "\n",
      "Human: What can you tell me about the right to asylum in Turkey?\n",
      "AI:\u001b[0m\n",
      "\n",
      "\u001b[1m> Finished chain.\u001b[0m\n"
     ]
    }
   ],
   "source": [
    "from langchain.llms import Bedrock\n",
    "from langchain.chains import ConversationChain\n",
    "from langchain.memory import ConversationBufferMemory\n",
    "import boto3\n",
    "from IPython.display import display, Markdown\n",
    "\n",
    "\n",
    "def get_bedrock_client():\n",
    "    bedrock_client = boto3.client(\"bedrock-runtime\", region_name=\"us-east-1\")\n",
    "    return bedrock_client\n",
    "\n",
    "# Instantiate Bedrock LLM\n",
    "llm = Bedrock(\n",
    "    client=get_bedrock_client(),\n",
    "    model_id=\"cohere.command-text-v14\"\n",
    ")\n",
    "\n",
    "conversation = ConversationChain(\n",
    "    llm=llm, verbose=True, memory=ConversationBufferMemory()\n",
    ")\n",
    "\n",
    "output = conversation.predict(input=\"What can you tell me about the right to asylum in Turkey?\")"
   ]
  },
  {
   "cell_type": "code",
   "execution_count": 8,
   "metadata": {},
   "outputs": [
    {
     "data": {
      "text/markdown": [
       "## Base LLM Output (no Training or RAG): \n",
       " **Cohere Command v14**  \n",
       "\n",
       " The right to asylum is an important human right that guarantees protection to people who seek refuge from persecution or danger in their home countries. Turkey is a signatory to the United Nations Convention relating to the Status of Refugees, which provides a framework for the treatment of refugees. \n",
       "\n",
       "In Turkey, the Law on Foreigners and International Protection regulates the asylum procedure and the status of refugees. The law defines a refugee as someone who has fled their country due to persecution on the basis of race, religion, nationality, membership of a particular social group, or political opinion, and who cannot return due to fear of persecution.\n",
       "\n",
       "The asylum procedure in Turkey begins with the submission of an application to the Directorate General of Migration Management (DGMM). Applications can be made at any border crossing, international airport, or at the local directorate office. The DGMM then conducts an interview with the applicant to assess their claim for asylum. If the application is accepted, the DGMM issues a temporary residence permit for the applicant and their family members. The permit is valid for one year and can be renewed for an additional year, after which the applicant can apply for a permanent residence permit.\n",
       "\n",
       "In addition to the right to asylum, Turkey also provides other forms of protection to refugees, including temporary protection and conditional refugee status. Temporary protection is granted to people who do not meet the criteria for refugee status but who are nevertheless in need of international protection. Conditional refugee status is granted to people who do not meet the criteria for refugee status but who cannot return to their country due to ongoing armed conflict.\n",
       "\n",
       "Turkey has been praised for its open-door policy towards refugees and asylum seekers, receiving more than 3.6 million refugees since the Syrian Civil War began in 2011. However, the country has also faced challenges in managing the large influx of refugees, including the need for additional resources and infrastructure, as well as the social and economic integration of refugees into Turkish society.\n",
       "\n",
       "In summary, Turkey has a legal framework in place to provide asylum and other forms of protection to refugees, and has a long history of providing refuge to people fleeing persecution and violence. However, the country faces significant challenges in managing the large number of refugees it has received in recent years."
      ],
      "text/plain": [
       "<IPython.core.display.Markdown object>"
      ]
     },
     "metadata": {},
     "output_type": "display_data"
    }
   ],
   "source": [
    "display(Markdown(\"## Base LLM Output (no Training or RAG): \\n **Cohere Command v14**  \\n\\n\" + output))"
   ]
  }
 ],
 "metadata": {
  "kernelspec": {
   "display_name": "Python 3",
   "language": "python",
   "name": "python3"
  },
  "language_info": {
   "codemirror_mode": {
    "name": "ipython",
    "version": 3
   },
   "file_extension": ".py",
   "mimetype": "text/x-python",
   "name": "python",
   "nbconvert_exporter": "python",
   "pygments_lexer": "ipython3",
   "version": "3.11.6"
  }
 },
 "nbformat": 4,
 "nbformat_minor": 2
}
