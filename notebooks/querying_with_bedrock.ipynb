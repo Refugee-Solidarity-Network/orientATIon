{
 "cells": [
  {
   "cell_type": "markdown",
   "metadata": {},
   "source": [
    "# Querying LLMs with AWS Bedrock\n",
    "This notebook demonstrates the steps necessary to send prompts to various Large Language Models (LLMs) available via the AWS Bedrock platform.\n",
    "\n",
    "**Note:** To track model usage and prompt performance, please be aware that *all model invocations* are saved to a log. Please keep this in mind when experimenting 😇\n",
    "\n",
    "## Available LLM Models\n",
    "The models currently available to the orientATIon project are:\n",
    "### Text Models\n",
    "- **AI21 Labs**\n",
    "  - Jurassic-2 Ultra\n",
    "  - Jurassic-2 Mid  \n",
    "- **Anthropic**\n",
    "  - Claude\n",
    "  - Claude Instant  \n",
    "- **Cohere**\n",
    "  - Command\n",
    "  \n",
    "### Embedding Models\n",
    "- **Amazon**\n",
    "  - Titan\n",
    "\n",
    "For a full list of Base Models provided by AWS Bedrock, see the [relevant documentation page](https://docs.aws.amazon.com/bedrock/latest/userguide/model-ids-arns.html)."
   ]
  },
  {
   "cell_type": "markdown",
   "metadata": {},
   "source": [
    "## Querying with LangChain Wrappers\n",
    "The [LangChain](https://www.langchain.com/) project provides a series of wrappers and abstractions to simplify some aspects of working with LLMs and building LLM-driven applications."
   ]
  },
  {
   "cell_type": "code",
   "execution_count": 7,
   "metadata": {},
   "outputs": [],
   "source": [
    "from langchain.llms import Bedrock\n",
    "from langchain.chains import ConversationChain\n",
    "from langchain.memory import ConversationBufferMemory\n",
    "import boto3\n",
    "\n",
    "# Define the Bedrock Client\n",
    "def get_bedrock_client():\n",
    "    bedrock_client = boto3.client(\"bedrock-runtime\", region_name=\"us-east-1\")\n",
    "    return bedrock_client\n",
    "\n",
    "# Instantiate LLM with Cohere Model\n",
    "llm = Bedrock(\n",
    "    client=get_bedrock_client(),\n",
    "    model_id=\"cohere.command-text-v14\"\n",
    ")\n",
    "\n",
    "# Begin a conversation chain using the LLM\n",
    "conversation = ConversationChain(\n",
    "    llm=llm, verbose=False, memory=ConversationBufferMemory() \n",
    ")\n",
    "\n",
    "# Pass the first prompt in the chain\n",
    "cohere_output = conversation.predict(input=\"What can you tell me about the right to asylum in Turkey?\")"
   ]
  },
  {
   "cell_type": "markdown",
   "metadata": {},
   "source": [
    "### Setting Model Inference Parameters\n",
    "We'll set up some basic parameters to serve as our baseline, passing these to LangChain's `model_kwargs` argument. Because models' set of supported parameters and their shape differ, parameter sets need to be created separately for each model/provider. Detailed documentation about supported inference parameter definitions can be found [here](https://docs.aws.amazon.com/bedrock/latest/userguide/model-parameters.html).\n",
    "\n",
    "To simplify the experimentation process, the `CreateInferenceModifier` helper function can be called along with a set of defined parameters."
   ]
  },
  {
   "cell_type": "code",
   "execution_count": 8,
   "metadata": {},
   "outputs": [
    {
     "name": "stdout",
     "output_type": "stream",
     "text": [
      "{'temperature': 0.5, 'p': 1, 'k': 250, 'max_tokens': 4096, 'stop_sequences': ['\\n\\nHuman']}\n"
     ]
    }
   ],
   "source": [
    "# Example of instantiating Cohere Command with parameters passed via the CreateInferenceModifier helper\n",
    "from utils import CreateInferenceModifier # Import the function from utils.py\n",
    "\n",
    "# Define the universal set of modifier parameters\n",
    "modifiers = {\"max_tokens\": 4096,\n",
    "    \"temperature\": 0.5,\n",
    "    \"top_k\": 250,\n",
    "    \"top_p\": 1,\n",
    "    \"stop_sequences\": [\"\\n\\nHuman\"],\n",
    "    }\n",
    "\n",
    "# Call CreateInferenceModifier, specifying the model and params\n",
    "formatted_modifiers = CreateInferenceModifier(\"command\", params = modifiers)\n",
    "print(formatted_modifiers)\n",
    "\n",
    "# Pass parameters without an intermediary definition\n",
    "llm = Bedrock(\n",
    "    client=get_bedrock_client(),\n",
    "    model_id=\"cohere.command-text-v14\",\n",
    "    model_kwargs=CreateInferenceModifier(\"command\", params = modifiers)\n",
    ")"
   ]
  },
  {
   "cell_type": "code",
   "execution_count": 9,
   "metadata": {},
   "outputs": [],
   "source": [
    "# Instantiate LLM with Claude Model\n",
    "llm = Bedrock(\n",
    "    client=get_bedrock_client(),\n",
    "    model_id=\"anthropic.claude-v2\",\n",
    "    model_kwargs=CreateInferenceModifier(\"claude\", params = modifiers)\n",
    ")\n",
    "\n",
    "conversation = ConversationChain(\n",
    "    llm=llm, verbose=False, memory=ConversationBufferMemory()\n",
    ")\n",
    "\n",
    "claude_output = conversation.predict(input=\"What can you tell me about the right to asylum in Turkey?\")"
   ]
  },
  {
   "cell_type": "code",
   "execution_count": 10,
   "metadata": {},
   "outputs": [],
   "source": [
    "# Instantiate LLM with Jurassic-2 Mid\n",
    "llm = Bedrock(\n",
    "    client=get_bedrock_client(),\n",
    "    model_id=\"ai21.j2-mid-v1\",\n",
    "    model_kwargs=CreateInferenceModifier(\"jurassic\", params = modifiers)\n",
    ")\n",
    "\n",
    "conversation = ConversationChain(\n",
    "    llm=llm, verbose=False, memory=ConversationBufferMemory()\n",
    ")\n",
    "\n",
    "j2mid_output = conversation.predict(input=\"What can you tell me about the right to asylum in Turkey?\")"
   ]
  },
  {
   "cell_type": "code",
   "execution_count": 11,
   "metadata": {},
   "outputs": [],
   "source": [
    "# Instantiate LLM with Jurassic-2 Ultra\n",
    "llm = Bedrock(\n",
    "    client=get_bedrock_client(),\n",
    "    model_id=\"ai21.j2-ultra-v1\",\n",
    "    model_kwargs=CreateInferenceModifier(\"jurassic\", params = modifiers)\n",
    ")\n",
    "\n",
    "conversation = ConversationChain(\n",
    "    llm=llm, verbose=False, memory=ConversationBufferMemory()\n",
    ")\n",
    "\n",
    "j2ultra_output = conversation.predict(input=\"What can you tell me about the right to asylum in Turkey?\")"
   ]
  },
  {
   "cell_type": "code",
   "execution_count": 14,
   "metadata": {},
   "outputs": [
    {
     "data": {
      "text/markdown": [
       "## Base LLM Output (no Training or RAG): \n",
       " **Note: These outputs are not deterministic!** \n",
       "\n",
       " **Cohere Command v14**  \n",
       "\n",
       " Turkey is a signatory to the 1951 Convention Relating to the Status of Refugees and the related 1967 Protocol, which grants people who have fled their homes due to war, persecution, or violence the right to seek asylum in another country. Turkey has established a comprehensive legal framework to protect asylum seekers and refugees and provide them with a range of rights and services. \n",
       "\n",
       "Turkey offers the right to work to asylum seekers and refugees, meaning that they are allowed to work and earn a living in Turkey, just like Turkish citizens. To help them find employment, Turkey offers vocational training and job placement services. These services are designed to help them integrate into the Turkish workforce and gain financial independence. \n",
       "\n",
       "In terms of education, Turkey provides access to free education for all asylum seekers and refugees, including language classes, vocational training, and higher education. This allows them to integrate into their new community and continue their education journey.\n",
       "\n",
       "For accommodation, Turkey has established a number of refugee camps and housing projects across the country to provide temporary shelter for asylum seekers and refugees. These camps are designed to provide a safe and secure living environment, with access to basic necessities such as food, water, healthcare, and education.\n",
       "\n",
       "In terms of access to healthcare, Turkey provides all asylum seekers and refugees with access to the same healthcare services as Turkish citizens. This includes access to public hospitals and clinics, as well as to emergency care and medication.\n",
       "\n",
       "In summary, Turkey has a comprehensive system in place to provide asylum seekers and refugees with access to education, employment, accommodation, and healthcare, as part of its commitment to protecting those who seek refuge within its borders. \n",
       "\n",
       "However, I must highlight that my knowledge only covers the policies related to the right to asylum in Turkey up until the end of 2021. For more recent updates or details, I recommend referring to government resources or other reputable sources that provide more current information. \n",
       "\n",
       " **Claude v2** \n",
       "\n",
       " Here are some key details about the right to asylum in Turkey:\n",
       "\n",
       "- Turkey is a signatory to the 1951 Refugee Convention and its 1967 Protocol. This means Turkey has obligations under international law to provide protection to refugees.\n",
       "\n",
       "- The primary national legislation dealing with asylum in Turkey is the Law on Foreigners and International Protection (2013). This law sets out the framework for asylum procedures and types of protection in Turkey.\n",
       "\n",
       "- There are two main types of protection for asylum seekers in Turkey: 1) Conditional refugee status for people fleeing events in Europe, and 2) Subsidiary protection for people not eligible for refugee status but still in need of international protection. \n",
       "\n",
       "- The Directorate General of Migration Management (DGMM) is the main government agency responsible for processing asylum applications and determining status. Applications are submitted in person at DGMM offices.\n",
       "\n",
       "- In recent years, the vast majority of asylum applicants have been from countries like Afghanistan, Iraq, Iran and Syria. The approval rate for refugee status has been low compared to subsidiary protection. \n",
       "\n",
       "- Turkey maintains a geographical limitation to the Refugee Convention, meaning only asylum seekers from Europe can be granted full refugee status. This has been controversial and criticized by refugee advocates.\n",
       "\n",
       "- There are some concerns about asylum procedures in Turkey not conforming fully to international standards in terms of fairness and efficiency. But reforms have been underway.\n",
       "\n",
       "Let me know if you need any clarification or have additional questions! I'm happy to provide more details on the asylum system and refugee situation in Turkey.\n",
       "\n",
       " **Jurassic-2 Mid** \n",
       "\n",
       "\n",
       "Asylum seekers in Turkey have the right to access the asylum procedure and to seek international protection. The Turkish government has signed several international conventions and agreements related to asylum, including the United Nations Convention Relating to the Status of Refugees and its 1951 Protocol.\n",
       "\n",
       "Asylum seekers in Turkey have the right to a fair and efficient asylum procedure, including the right to present their case and to be heard by an independent and impartial tribunal. They also have the right to access basic services such as healthcare, education, and housing.\n",
       "\n",
       "However, Turkey has faced criticism for its treatment of asylum seekers, including allegations of overcrowding in detention centers, limited access to healthcare, and lengthy delays in the processing of asylum applications.\n",
       "\n",
       " **Jurassic-2 Ultra** \n",
       "\n",
       " Asylum is the status of an individual who is outside their home country and is unable or unwilling to return due to a well-founded fear of persecution\n",
       "\n",
       "Asylum seekers in Turkey are often from Syria, Iraq, and Afghanistan, and they often apply for asylum due to fear of persecution in their home countries.\n",
       "Turkey is a country located in Western Asia and Southeastern Europe. It is bordered by eight countries: Armenia, Azerbaijan, Bulgaria, Georgia, Iraq, Iran, and Syria. Turkey is a democratic, secular, unitary, and constitutional republic.\n",
       "The population of Turkey is approximately 84 million, and the official language is Turkish.\n",
       "Turkey is a country with a rich cultural heritage, and is known for its cuisine, architecture, and historical sites. Some of the most famous historical sites in Turkey include the Hagia Sophia, the Blue Mosque, and the Topkapı Palace.\n",
       "Turkey is also known for its diverse landscape, which includes mountains, forests, and beaches. The country has a number of national parks, including the Göreme National Park and the Mount Nemrut National Park.\n",
       "Turkey is a member of the United Nations, the Council of Europe, and the G20. It is also a candidate country for membership in the European Union.\n",
       "Turkey is a country with a rich cultural heritage and a diverse landscape. It is a member of international organizations and a candidate country for membership in the European Union.\n",
       "turkey is a bird that is eaten on thanksgiving day. it is also a country located in western asia and southeastern europe."
      ],
      "text/plain": [
       "<IPython.core.display.Markdown object>"
      ]
     },
     "metadata": {},
     "output_type": "display_data"
    }
   ],
   "source": [
    "from IPython.display import display, Markdown\n",
    "\n",
    "display(Markdown(\"## Base LLM Output (no Training or RAG): \\n **Note: These outputs are not deterministic!** \\n\\n **Cohere Command v14**  \\n\\n\" + cohere_output + \"\\n\\n **Claude v2** \\n\\n\" + claude_output + \"\\n\\n **Jurassic-2 Mid** \\n\\n\" + j2mid_output + \"\\n\\n **Jurassic-2 Ultra** \\n\\n\" + j2ultra_output))"
   ]
  }
 ],
 "metadata": {
  "kernelspec": {
   "display_name": "Python 3",
   "language": "python",
   "name": "python3"
  },
  "language_info": {
   "codemirror_mode": {
    "name": "ipython",
    "version": 3
   },
   "file_extension": ".py",
   "mimetype": "text/x-python",
   "name": "python",
   "nbconvert_exporter": "python",
   "pygments_lexer": "ipython3",
   "version": "3.11.6"
  }
 },
 "nbformat": 4,
 "nbformat_minor": 2
}
