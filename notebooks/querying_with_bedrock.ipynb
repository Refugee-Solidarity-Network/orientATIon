{
 "cells": [
  {
   "cell_type": "code",
   "execution_count": 1,
   "metadata": {},
   "outputs": [
    {
     "name": "stdout",
     "output_type": "stream",
     "text": [
      "\n",
      "\n",
      "\u001b[1m> Entering new ConversationChain chain...\u001b[0m\n",
      "Prompt after formatting:\n",
      "\u001b[32;1m\u001b[1;3mThe following is a friendly conversation between a human and an AI. The AI is talkative and provides lots of specific details from its context. If the AI does not know the answer to a question, it truthfully says it does not know.\n",
      "\n",
      "Current conversation:\n",
      "\n",
      "Human: What can you tell me about the right to asylum in Turkey?\n",
      "AI:\u001b[0m\n",
      "\n",
      "\u001b[1m> Finished chain.\u001b[0m\n"
     ]
    }
   ],
   "source": [
    "from langchain.llms import Bedrock\n",
    "from langchain.chains import ConversationChain\n",
    "from langchain.memory import ConversationBufferMemory\n",
    "import boto3\n",
    "from IPython.display import display, Markdown\n",
    "\n",
    "\n",
    "def get_bedrock_client():\n",
    "    bedrock_client = boto3.client(\"bedrock-runtime\", region_name=\"us-east-1\")\n",
    "    return bedrock_client\n",
    "\n",
    "# Instantiate LLM with Cohere Model\n",
    "llm = Bedrock(\n",
    "    client=get_bedrock_client(),\n",
    "    model_id=\"cohere.command-text-v14\",\n",
    ")\n",
    "\n",
    "conversation = ConversationChain(\n",
    "    llm=llm, verbose=True, memory=ConversationBufferMemory() \n",
    ")\n",
    "\n",
    "cohere_output = conversation.predict(input=\"What can you tell me about the right to asylum in Turkey?\")"
   ]
  },
  {
   "cell_type": "code",
   "execution_count": 2,
   "metadata": {},
   "outputs": [
    {
     "name": "stdout",
     "output_type": "stream",
     "text": [
      "\n",
      "\n",
      "\u001b[1m> Entering new ConversationChain chain...\u001b[0m\n",
      "Prompt after formatting:\n",
      "\u001b[32;1m\u001b[1;3mThe following is a friendly conversation between a human and an AI. The AI is talkative and provides lots of specific details from its context. If the AI does not know the answer to a question, it truthfully says it does not know.\n",
      "\n",
      "Current conversation:\n",
      "\n",
      "Human: What can you tell me about the right to asylum in Turkey?\n",
      "AI:\u001b[0m\n",
      "\n",
      "\u001b[1m> Finished chain.\u001b[0m\n"
     ]
    }
   ],
   "source": [
    "# Instantiate LLM with Claude Model\n",
    "llm = Bedrock(\n",
    "    client=get_bedrock_client(),\n",
    "    model_id=\"anthropic.claude-v2\"\n",
    ")\n",
    "\n",
    "conversation = ConversationChain(\n",
    "    llm=llm, verbose=True, memory=ConversationBufferMemory()\n",
    ")\n",
    "\n",
    "claude_output = conversation.predict(input=\"What can you tell me about the right to asylum in Turkey?\")"
   ]
  },
  {
   "cell_type": "code",
   "execution_count": 3,
   "metadata": {},
   "outputs": [
    {
     "data": {
      "text/markdown": [
       "## Base LLM Output (no Training or RAG): \n",
       " **Cohere Command v14**  \n",
       "\n",
       " Turkey is a signatory of the United Nations (UN) Convention relating to the Status of Refugees, its legal framework establishes the rights of refugees and the responsibilities of protecting powers, such as Turkey. \n",
       "\n",
       "Turkey offers the right to seek asylum to anyone who can enter its territory, regardless of their nationality or ethnicity. Once in Turkey, the right to asylum grants refugees access to education, legal residence, and access to public services such as healthcare.\n",
       "\n",
       "In 2015, Turkey adopted a 'geographic limitation' approach to its asylum legislation, stating that international protection can only be granted to those who have fled war zones or neighbouring countries to Turkey. This means that asylum claims from other nationalities are typically not accepted. \n",
       "\n",
       "Turkey has been criticized for its treatment of refugees in the past. In particular, there have been reports of poor conditions in refugee camps and detention centers. The Turkish government has also been accused of forcibly returning refugees to war zones and carrying out pushbacks at the border. \n",
       "\n",
       "It's important to note that the information available on the topic of asylum rights in Turkey may not be fully up to date, and policies may have changed since the last update. \n",
       "\n",
       "Would you like to know more about the asylum process in Turkey? \n",
       "\n",
       " **Claude v2** \n",
       "\n",
       " Here are some key facts about the right to asylum in Turkey:\n",
       "\n",
       "- Turkey is a party to the 1951 Refugee Convention and its 1967 Protocol. This means Turkey has legal obligations under international law to protect refugees.\n",
       "\n",
       "- The Turkish constitution also guarantees the right to asylum. Article 90 states that in the case of conflict between international agreements and domestic laws, the international agreements shall prevail.\n",
       "\n",
       "- The main national legislation dealing with refugees and asylum seekers is the Law on Foreigners and International Protection adopted in 2013. This law lays out provisions for different types of international protection, including refugee status.\n",
       "\n",
       "- Turkey maintains a geographical limitation to the Refugee Convention - only Europeans can be given refugee status. Non-Europeans are given \"conditional refugee\" status or subsidiarity protection status.\n",
       "\n",
       "- In recent years, Turkey has received large numbers of asylum seekers, mainly from Syria, Iraq, Afghanistan, and Iran. As of 2018, Turkey hosted over 3.5 million registered Syrian refugees, the largest refugee population in the world. \n",
       "\n",
       "- The United Nations High Commissioner for Refugees (UNHCR) is active in Turkey and works with the Turkish government to process asylum applications and provide services. But UNHCR has faced challenges in"
      ],
      "text/plain": [
       "<IPython.core.display.Markdown object>"
      ]
     },
     "metadata": {},
     "output_type": "display_data"
    }
   ],
   "source": [
    "display(Markdown(\"## Base LLM Output (no Training or RAG): \\n **Cohere Command v14**  \\n\\n\" + cohere_output + \"\\n\\n **Claude v2** \\n\\n\" + claude_output))"
   ]
  }
 ],
 "metadata": {
  "kernelspec": {
   "display_name": "Python 3",
   "language": "python",
   "name": "python3"
  },
  "language_info": {
   "codemirror_mode": {
    "name": "ipython",
    "version": 3
   },
   "file_extension": ".py",
   "mimetype": "text/x-python",
   "name": "python",
   "nbconvert_exporter": "python",
   "pygments_lexer": "ipython3",
   "version": "3.11.6"
  }
 },
 "nbformat": 4,
 "nbformat_minor": 2
}
